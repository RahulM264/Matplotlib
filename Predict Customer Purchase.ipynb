{
 "cells": [
  {
   "cell_type": "markdown",
   "metadata": {},
   "source": [
    "# Business Understanding and Overview"
   ]
  },
  {
   "cell_type": "markdown",
   "metadata": {},
   "source": [
    "Customer Purchase Analysis is one ofthe key areas for a Store at any level. By collecting information about the customer and recording about his purchases, the store can analyse the patterns and devise suitable strategies to attract the customer and make more profits.\n",
    "\n",
    "In this problem statement, given various information about customers and their details, predict if a particular customer will make a purchase>"
   ]
  },
  {
   "cell_type": "markdown",
   "metadata": {},
   "source": [
    "## Problem Statement:- Predict whether a customer will purchase from the store given data about customer’s information and past behaviour."
   ]
  },
  {
   "cell_type": "markdown",
   "metadata": {},
   "source": [
    "Let us begin by importing all the necessary libraries that I can use as of now and if there are anymore libraries that I'll need, Ill import them when I wanna use it"
   ]
  },
  {
   "cell_type": "code",
   "execution_count": 381,
   "metadata": {},
   "outputs": [],
   "source": [
    "import numpy as np\n",
    "import pandas as pd\n",
    "import matplotlib.pyplot as plt\n",
    "import seaborn as sns\n",
    "import missingno as msg\n",
    "%matplotlib inline"
   ]
  },
  {
   "cell_type": "code",
   "execution_count": 382,
   "metadata": {},
   "outputs": [],
   "source": [
    "df = pd.read_csv('train.csv')"
   ]
  },
  {
   "cell_type": "code",
   "execution_count": 383,
   "metadata": {},
   "outputs": [
    {
     "data": {
      "text/html": [
       "<div>\n",
       "<style scoped>\n",
       "    .dataframe tbody tr th:only-of-type {\n",
       "        vertical-align: middle;\n",
       "    }\n",
       "\n",
       "    .dataframe tbody tr th {\n",
       "        vertical-align: top;\n",
       "    }\n",
       "\n",
       "    .dataframe thead th {\n",
       "        text-align: right;\n",
       "    }\n",
       "</style>\n",
       "<table border=\"1\" class=\"dataframe\">\n",
       "  <thead>\n",
       "    <tr style=\"text-align: right;\">\n",
       "      <th></th>\n",
       "      <th>ID</th>\n",
       "      <th>STATE</th>\n",
       "      <th>AGE</th>\n",
       "      <th>OCCUPATION</th>\n",
       "      <th>INCOME_GROUP</th>\n",
       "      <th>CUSTOMER_SINCE</th>\n",
       "      <th>LOYALTY_PROGRAM</th>\n",
       "      <th>PAST_PURCHASE</th>\n",
       "      <th>PURCHASE</th>\n",
       "    </tr>\n",
       "  </thead>\n",
       "  <tbody>\n",
       "    <tr>\n",
       "      <th>0</th>\n",
       "      <td>1</td>\n",
       "      <td>Uttar Pradesh</td>\n",
       "      <td>28</td>\n",
       "      <td></td>\n",
       "      <td>Low</td>\n",
       "      <td>2018</td>\n",
       "      <td>No</td>\n",
       "      <td>4937</td>\n",
       "      <td>No</td>\n",
       "    </tr>\n",
       "    <tr>\n",
       "      <th>1</th>\n",
       "      <td>2</td>\n",
       "      <td>Madhya Pradesh</td>\n",
       "      <td>27</td>\n",
       "      <td>Salaried</td>\n",
       "      <td>Low</td>\n",
       "      <td>2018</td>\n",
       "      <td>No</td>\n",
       "      <td>10834</td>\n",
       "      <td>No</td>\n",
       "    </tr>\n",
       "    <tr>\n",
       "      <th>2</th>\n",
       "      <td>3</td>\n",
       "      <td>West Bengal</td>\n",
       "      <td>62</td>\n",
       "      <td></td>\n",
       "      <td>High</td>\n",
       "      <td>2013</td>\n",
       "      <td>NaN</td>\n",
       "      <td>8610</td>\n",
       "      <td>Yes</td>\n",
       "    </tr>\n",
       "    <tr>\n",
       "      <th>3</th>\n",
       "      <td>4</td>\n",
       "      <td>Tamil Nadu</td>\n",
       "      <td>27</td>\n",
       "      <td>Salaried</td>\n",
       "      <td>Low</td>\n",
       "      <td>2018</td>\n",
       "      <td>No</td>\n",
       "      <td>14374</td>\n",
       "      <td>Yes</td>\n",
       "    </tr>\n",
       "    <tr>\n",
       "      <th>4</th>\n",
       "      <td>5</td>\n",
       "      <td>Uttar Pradesh</td>\n",
       "      <td>40</td>\n",
       "      <td>Self employed</td>\n",
       "      <td>High</td>\n",
       "      <td>2015</td>\n",
       "      <td>No</td>\n",
       "      <td>13158</td>\n",
       "      <td>No</td>\n",
       "    </tr>\n",
       "    <tr>\n",
       "      <th>5</th>\n",
       "      <td>6</td>\n",
       "      <td>Maharashtra</td>\n",
       "      <td>28</td>\n",
       "      <td>Salaried</td>\n",
       "      <td>Low</td>\n",
       "      <td>2018</td>\n",
       "      <td>No</td>\n",
       "      <td>5159</td>\n",
       "      <td>No</td>\n",
       "    </tr>\n",
       "    <tr>\n",
       "      <th>6</th>\n",
       "      <td>7</td>\n",
       "      <td>Tamil Nadu</td>\n",
       "      <td>68</td>\n",
       "      <td></td>\n",
       "      <td>High</td>\n",
       "      <td>2010</td>\n",
       "      <td>NaN</td>\n",
       "      <td>12780</td>\n",
       "      <td>Yes</td>\n",
       "    </tr>\n",
       "    <tr>\n",
       "      <th>7</th>\n",
       "      <td>8</td>\n",
       "      <td>Maharashtra</td>\n",
       "      <td>45</td>\n",
       "      <td>Self employed</td>\n",
       "      <td>Medium</td>\n",
       "      <td>2018</td>\n",
       "      <td>No</td>\n",
       "      <td>5018</td>\n",
       "      <td>No</td>\n",
       "    </tr>\n",
       "    <tr>\n",
       "      <th>8</th>\n",
       "      <td>9</td>\n",
       "      <td>West Bengal</td>\n",
       "      <td>56</td>\n",
       "      <td>Self employed</td>\n",
       "      <td>Medium</td>\n",
       "      <td>2014</td>\n",
       "      <td>Yes</td>\n",
       "      <td>7238</td>\n",
       "      <td>No</td>\n",
       "    </tr>\n",
       "    <tr>\n",
       "      <th>9</th>\n",
       "      <td>10</td>\n",
       "      <td>Tamil Nadu</td>\n",
       "      <td>67</td>\n",
       "      <td></td>\n",
       "      <td>High</td>\n",
       "      <td>2010</td>\n",
       "      <td>Yes</td>\n",
       "      <td>25120</td>\n",
       "      <td>Yes</td>\n",
       "    </tr>\n",
       "    <tr>\n",
       "      <th>10</th>\n",
       "      <td>11</td>\n",
       "      <td>Uttar Pradesh</td>\n",
       "      <td>37</td>\n",
       "      <td>Self employed</td>\n",
       "      <td></td>\n",
       "      <td>2019</td>\n",
       "      <td>Yes</td>\n",
       "      <td>6602</td>\n",
       "      <td>No</td>\n",
       "    </tr>\n",
       "    <tr>\n",
       "      <th>11</th>\n",
       "      <td>12</td>\n",
       "      <td>Tamil Nadu</td>\n",
       "      <td>26</td>\n",
       "      <td>Salaried</td>\n",
       "      <td>Low</td>\n",
       "      <td>2018</td>\n",
       "      <td>Yes</td>\n",
       "      <td>7529</td>\n",
       "      <td>Yes</td>\n",
       "    </tr>\n",
       "    <tr>\n",
       "      <th>12</th>\n",
       "      <td>13</td>\n",
       "      <td>Kerala</td>\n",
       "      <td>31</td>\n",
       "      <td></td>\n",
       "      <td>Low</td>\n",
       "      <td>2017</td>\n",
       "      <td>No</td>\n",
       "      <td>3853</td>\n",
       "      <td>No</td>\n",
       "    </tr>\n",
       "    <tr>\n",
       "      <th>13</th>\n",
       "      <td>14</td>\n",
       "      <td>Goa</td>\n",
       "      <td>37</td>\n",
       "      <td>Salaried</td>\n",
       "      <td>Low</td>\n",
       "      <td>2017</td>\n",
       "      <td>No</td>\n",
       "      <td>7477</td>\n",
       "      <td>No</td>\n",
       "    </tr>\n",
       "    <tr>\n",
       "      <th>14</th>\n",
       "      <td>15</td>\n",
       "      <td>Karnataka</td>\n",
       "      <td>52</td>\n",
       "      <td>Self employed</td>\n",
       "      <td>High</td>\n",
       "      <td>2010</td>\n",
       "      <td>No</td>\n",
       "      <td>8604</td>\n",
       "      <td>No</td>\n",
       "    </tr>\n",
       "    <tr>\n",
       "      <th>15</th>\n",
       "      <td>16</td>\n",
       "      <td>Andhra Pradesh</td>\n",
       "      <td>40</td>\n",
       "      <td>Self employed</td>\n",
       "      <td>Low</td>\n",
       "      <td>2017</td>\n",
       "      <td>No</td>\n",
       "      <td>5612</td>\n",
       "      <td>No</td>\n",
       "    </tr>\n",
       "    <tr>\n",
       "      <th>16</th>\n",
       "      <td>17</td>\n",
       "      <td>Telangana</td>\n",
       "      <td>43</td>\n",
       "      <td>Self employed</td>\n",
       "      <td></td>\n",
       "      <td>2018</td>\n",
       "      <td>Yes</td>\n",
       "      <td>5406</td>\n",
       "      <td>No</td>\n",
       "    </tr>\n",
       "    <tr>\n",
       "      <th>17</th>\n",
       "      <td>18</td>\n",
       "      <td>Tamil Nadu</td>\n",
       "      <td>32</td>\n",
       "      <td></td>\n",
       "      <td>Medium</td>\n",
       "      <td>2016</td>\n",
       "      <td>No</td>\n",
       "      <td>6461</td>\n",
       "      <td>No</td>\n",
       "    </tr>\n",
       "    <tr>\n",
       "      <th>18</th>\n",
       "      <td>19</td>\n",
       "      <td>Tamil Nadu</td>\n",
       "      <td>63</td>\n",
       "      <td></td>\n",
       "      <td>Low</td>\n",
       "      <td>2013</td>\n",
       "      <td>NaN</td>\n",
       "      <td>12900</td>\n",
       "      <td>Yes</td>\n",
       "    </tr>\n",
       "    <tr>\n",
       "      <th>19</th>\n",
       "      <td>20</td>\n",
       "      <td>Chandigarh</td>\n",
       "      <td>52</td>\n",
       "      <td></td>\n",
       "      <td>Medium</td>\n",
       "      <td>2017</td>\n",
       "      <td>No</td>\n",
       "      <td>2801</td>\n",
       "      <td>No</td>\n",
       "    </tr>\n",
       "    <tr>\n",
       "      <th>20</th>\n",
       "      <td>21</td>\n",
       "      <td>Nagaland</td>\n",
       "      <td>73</td>\n",
       "      <td></td>\n",
       "      <td>High</td>\n",
       "      <td>2016</td>\n",
       "      <td>Yes</td>\n",
       "      <td>6960</td>\n",
       "      <td>No</td>\n",
       "    </tr>\n",
       "    <tr>\n",
       "      <th>21</th>\n",
       "      <td>22</td>\n",
       "      <td>Andaman and Nicobar Islands</td>\n",
       "      <td>68</td>\n",
       "      <td></td>\n",
       "      <td>Medium</td>\n",
       "      <td>2018</td>\n",
       "      <td>Yes</td>\n",
       "      <td>6852</td>\n",
       "      <td>No</td>\n",
       "    </tr>\n",
       "    <tr>\n",
       "      <th>22</th>\n",
       "      <td>23</td>\n",
       "      <td>Maharashtra</td>\n",
       "      <td>46</td>\n",
       "      <td>Self employed</td>\n",
       "      <td>High</td>\n",
       "      <td>2015</td>\n",
       "      <td>Yes</td>\n",
       "      <td>16152</td>\n",
       "      <td>No</td>\n",
       "    </tr>\n",
       "    <tr>\n",
       "      <th>23</th>\n",
       "      <td>24</td>\n",
       "      <td>Uttar Pradesh</td>\n",
       "      <td>25</td>\n",
       "      <td>Salaried</td>\n",
       "      <td>Low</td>\n",
       "      <td>2018</td>\n",
       "      <td>No</td>\n",
       "      <td>10585</td>\n",
       "      <td>No</td>\n",
       "    </tr>\n",
       "    <tr>\n",
       "      <th>24</th>\n",
       "      <td>25</td>\n",
       "      <td>Tamil Nadu</td>\n",
       "      <td>56</td>\n",
       "      <td></td>\n",
       "      <td>High</td>\n",
       "      <td>2010</td>\n",
       "      <td>Yes</td>\n",
       "      <td>9029</td>\n",
       "      <td>Yes</td>\n",
       "    </tr>\n",
       "  </tbody>\n",
       "</table>\n",
       "</div>"
      ],
      "text/plain": [
       "    ID                        STATE  AGE     OCCUPATION INCOME_GROUP  \\\n",
       "0    1                Uttar Pradesh   28                         Low   \n",
       "1    2               Madhya Pradesh   27       Salaried          Low   \n",
       "2    3                  West Bengal   62                        High   \n",
       "3    4                   Tamil Nadu   27       Salaried          Low   \n",
       "4    5                Uttar Pradesh   40  Self employed         High   \n",
       "5    6                  Maharashtra   28       Salaried          Low   \n",
       "6    7                   Tamil Nadu   68                        High   \n",
       "7    8                  Maharashtra   45  Self employed       Medium   \n",
       "8    9                  West Bengal   56  Self employed       Medium   \n",
       "9   10                   Tamil Nadu   67                        High   \n",
       "10  11                Uttar Pradesh   37  Self employed                \n",
       "11  12                   Tamil Nadu   26       Salaried          Low   \n",
       "12  13                       Kerala   31                         Low   \n",
       "13  14                          Goa   37       Salaried          Low   \n",
       "14  15                    Karnataka   52  Self employed         High   \n",
       "15  16               Andhra Pradesh   40  Self employed          Low   \n",
       "16  17                    Telangana   43  Self employed                \n",
       "17  18                   Tamil Nadu   32                      Medium   \n",
       "18  19                   Tamil Nadu   63                         Low   \n",
       "19  20                   Chandigarh   52                      Medium   \n",
       "20  21                     Nagaland   73                        High   \n",
       "21  22  Andaman and Nicobar Islands   68                      Medium   \n",
       "22  23                  Maharashtra   46  Self employed         High   \n",
       "23  24                Uttar Pradesh   25       Salaried          Low   \n",
       "24  25                   Tamil Nadu   56                        High   \n",
       "\n",
       "    CUSTOMER_SINCE LOYALTY_PROGRAM  PAST_PURCHASE PURCHASE  \n",
       "0             2018              No           4937       No  \n",
       "1             2018              No          10834       No  \n",
       "2             2013             NaN           8610      Yes  \n",
       "3             2018              No          14374      Yes  \n",
       "4             2015              No          13158       No  \n",
       "5             2018              No           5159       No  \n",
       "6             2010             NaN          12780      Yes  \n",
       "7             2018              No           5018       No  \n",
       "8             2014             Yes           7238       No  \n",
       "9             2010             Yes          25120      Yes  \n",
       "10            2019             Yes           6602       No  \n",
       "11            2018             Yes           7529      Yes  \n",
       "12            2017              No           3853       No  \n",
       "13            2017              No           7477       No  \n",
       "14            2010              No           8604       No  \n",
       "15            2017              No           5612       No  \n",
       "16            2018             Yes           5406       No  \n",
       "17            2016              No           6461       No  \n",
       "18            2013             NaN          12900      Yes  \n",
       "19            2017              No           2801       No  \n",
       "20            2016             Yes           6960       No  \n",
       "21            2018             Yes           6852       No  \n",
       "22            2015             Yes          16152       No  \n",
       "23            2018              No          10585       No  \n",
       "24            2010             Yes           9029      Yes  "
      ]
     },
     "execution_count": 383,
     "metadata": {},
     "output_type": "execute_result"
    }
   ],
   "source": [
    "df.head(25)"
   ]
  },
  {
   "cell_type": "markdown",
   "metadata": {},
   "source": [
    "## *Inference about Columns and their Meanings*:-\n",
    "\n",
    "ID - Unique identifier of a customer\n",
    "\n",
    "STATE - Customer’s state of residence\n",
    "\n",
    "AGE - Customer’s age\n",
    "\n",
    "OCCUPATION - Customer’s occupation\n",
    "\n",
    "INCOME_GROUP - Customer’s income band\n",
    "\n",
    "CUSTOMER_SINCE - Year in which the customer made the first purchase at the store\n",
    "\n",
    "LOYALTY_PROGRAM - Is the customer enrolled for the loyalty program? (Yes/No)\n",
    "\n",
    "PAST_PURCHASE - Total amount of past purchase from the same store\n",
    "\n",
    "PURCHASE - Indicates whether a customer purchases (Yes/No) a product when approached by the store."
   ]
  },
  {
   "cell_type": "markdown",
   "metadata": {},
   "source": [
    "### Before proceeding with the analysis, for aesthetic purposes, I will be renaming all the columns into Camel case"
   ]
  },
  {
   "cell_type": "code",
   "execution_count": 384,
   "metadata": {},
   "outputs": [],
   "source": [
    "df.columns = pd.Series(df.columns).apply(lambda x: x[0]+x[1:].lower())"
   ]
  },
  {
   "cell_type": "code",
   "execution_count": 385,
   "metadata": {},
   "outputs": [
    {
     "data": {
      "text/plain": [
       "Index(['Id', 'State', 'Age', 'Occupation', 'Income_group', 'Customer_since',\n",
       "       'Loyalty_program', 'Past_purchase', 'Purchase'],\n",
       "      dtype='object')"
      ]
     },
     "execution_count": 385,
     "metadata": {},
     "output_type": "execute_result"
    }
   ],
   "source": [
    "df.columns"
   ]
  },
  {
   "cell_type": "markdown",
   "metadata": {},
   "source": [
    "Let us now proceed with the exploratory data analysis"
   ]
  },
  {
   "cell_type": "markdown",
   "metadata": {},
   "source": [
    "## Target Variable"
   ]
  },
  {
   "cell_type": "markdown",
   "metadata": {},
   "source": [
    "The Target Variable here is the \"Purchase\" column which indicates whether a person is going to buy at the store next time or not.\n",
    "\n",
    "Let us see its frequency before proceeding further"
   ]
  },
  {
   "cell_type": "code",
   "execution_count": 386,
   "metadata": {},
   "outputs": [
    {
     "data": {
      "text/plain": [
       "Text(0.5, 1.0, \"Frequency of Customer's Decision\")"
      ]
     },
     "execution_count": 386,
     "metadata": {},
     "output_type": "execute_result"
    },
    {
     "data": {
      "image/png": "[encoded data removed]",
      "text/plain": [
       "<Figure size 432x288 with 1 Axes>"
      ]
     },
     "metadata": {
      "needs_background": "light"
     },
     "output_type": "display_data"
    }
   ],
   "source": [
    "sns.barplot(df['Purchase'].unique(),df['Purchase'].value_counts())\n",
    "plt.xlabel('Whether the customer buys or not')\n",
    "plt.ylabel('No. of customers taking that decision')\n",
    "plt.title(\"Frequency of Customer's Decision\")"
   ]
  },
  {
   "cell_type": "code",
   "execution_count": 387,
   "metadata": {},
   "outputs": [
    {
     "name": "stdout",
     "output_type": "stream",
     "text": [
      "Customers not buying is 76.358 percent and buying is 23.642 percent\n"
     ]
    }
   ],
   "source": [
    "n = len(df[df['Purchase']=='No'])\n",
    "y = len(df[df['Purchase']=='Yes'])\n",
    "print(f\"Customers not buying is {n/len(df)*100} percent and buying is {y/len(df)*100} percent\")"
   ]
  },
  {
   "cell_type": "markdown",
   "metadata": {},
   "source": [
    "## Inferences:-\n",
    "\n",
    "1. Data is highly imbalanced. The ratio of No to Yes is almost 76:24 percent\n",
    "\n",
    "\n",
    "2. Most of the customers are predicted to not buy from the store once again. This might be due to a multitude of reasons\n",
    "\n",
    "\n",
    "3. We need to analyse the data with other features while taking the target values seperately to get some insights\n",
    "\n"
   ]
  },
  {
   "cell_type": "markdown",
   "metadata": {},
   "source": [
    "## Initial Intuition from Data"
   ]
  },
  {
   "cell_type": "code",
   "execution_count": 388,
   "metadata": {},
   "outputs": [
    {
     "data": {
      "text/plain": [
       "(150000, 9)"
      ]
     },
     "execution_count": 388,
     "metadata": {},
     "output_type": "execute_result"
    }
   ],
   "source": [
    "df.shape"
   ]
  },
  {
   "cell_type": "markdown",
   "metadata": {},
   "source": [
    "This dataset has a total information of 150000 different customers and 9 features for each customer"
   ]
  },
  {
   "cell_type": "code",
   "execution_count": 389,
   "metadata": {},
   "outputs": [
    {
     "data": {
      "text/plain": [
       "0"
      ]
     },
     "execution_count": 389,
     "metadata": {},
     "output_type": "execute_result"
    }
   ],
   "source": [
    "df.duplicated().sum()"
   ]
  },
  {
   "cell_type": "markdown",
   "metadata": {},
   "source": [
    "As we can see, there are no duplicate values in the dataset which is a good thing as no customer's information has been recorded twice by mistake"
   ]
  },
  {
   "cell_type": "code",
   "execution_count": 390,
   "metadata": {},
   "outputs": [
    {
     "data": {
      "text/plain": [
       "Id                     0\n",
       "State                  0\n",
       "Age                    0\n",
       "Occupation             0\n",
       "Income_group           0\n",
       "Customer_since         0\n",
       "Loyalty_program    17824\n",
       "Past_purchase          0\n",
       "Purchase               0\n",
       "dtype: int64"
      ]
     },
     "execution_count": 390,
     "metadata": {},
     "output_type": "execute_result"
    }
   ],
   "source": [
    "df.isnull().sum()"
   ]
  },
  {
   "cell_type": "markdown",
   "metadata": {},
   "source": [
    "The presence of Null Values are being indicated only in the \"Loyalty_program\" column of the dataset however we can clearly see some empty strings in the \"Occupation\" and \"Income Group\" column when we used the head function"
   ]
  },
  {
   "cell_type": "markdown",
   "metadata": {},
   "source": [
    "These are by practise null values but arent being detected by the Pandas isnull() function as theyre in the form of strings"
   ]
  },
  {
   "cell_type": "code",
   "execution_count": 391,
   "metadata": {},
   "outputs": [
    {
     "data": {
      "text/plain": [
       "Id                  int64\n",
       "State              object\n",
       "Age                 int64\n",
       "Occupation         object\n",
       "Income_group       object\n",
       "Customer_since      int64\n",
       "Loyalty_program    object\n",
       "Past_purchase       int64\n",
       "Purchase           object\n",
       "dtype: object"
      ]
     },
     "execution_count": 391,
     "metadata": {},
     "output_type": "execute_result"
    }
   ],
   "source": [
    "df.dtypes"
   ]
  },
  {
   "cell_type": "code",
   "execution_count": 392,
   "metadata": {},
   "outputs": [
    {
     "data": {
      "text/html": [
       "<div>\n",
       "<style scoped>\n",
       "    .dataframe tbody tr th:only-of-type {\n",
       "        vertical-align: middle;\n",
       "    }\n",
       "\n",
       "    .dataframe tbody tr th {\n",
       "        vertical-align: top;\n",
       "    }\n",
       "\n",
       "    .dataframe thead th {\n",
       "        text-align: right;\n",
       "    }\n",
       "</style>\n",
       "<table border=\"1\" class=\"dataframe\">\n",
       "  <thead>\n",
       "    <tr style=\"text-align: right;\">\n",
       "      <th></th>\n",
       "      <th>Id</th>\n",
       "      <th>Age</th>\n",
       "      <th>Customer_since</th>\n",
       "      <th>Past_purchase</th>\n",
       "    </tr>\n",
       "  </thead>\n",
       "  <tbody>\n",
       "    <tr>\n",
       "      <th>count</th>\n",
       "      <td>150000.000000</td>\n",
       "      <td>150000.000000</td>\n",
       "      <td>150000.000000</td>\n",
       "      <td>150000.000000</td>\n",
       "    </tr>\n",
       "    <tr>\n",
       "      <th>mean</th>\n",
       "      <td>75000.500000</td>\n",
       "      <td>43.805660</td>\n",
       "      <td>2015.507960</td>\n",
       "      <td>11244.207287</td>\n",
       "    </tr>\n",
       "    <tr>\n",
       "      <th>std</th>\n",
       "      <td>43301.414527</td>\n",
       "      <td>14.828219</td>\n",
       "      <td>2.685645</td>\n",
       "      <td>8458.166886</td>\n",
       "    </tr>\n",
       "    <tr>\n",
       "      <th>min</th>\n",
       "      <td>1.000000</td>\n",
       "      <td>23.000000</td>\n",
       "      <td>2008.000000</td>\n",
       "      <td>208.000000</td>\n",
       "    </tr>\n",
       "    <tr>\n",
       "      <th>25%</th>\n",
       "      <td>37500.750000</td>\n",
       "      <td>30.000000</td>\n",
       "      <td>2013.000000</td>\n",
       "      <td>6034.750000</td>\n",
       "    </tr>\n",
       "    <tr>\n",
       "      <th>50%</th>\n",
       "      <td>75000.500000</td>\n",
       "      <td>43.000000</td>\n",
       "      <td>2017.000000</td>\n",
       "      <td>8926.000000</td>\n",
       "    </tr>\n",
       "    <tr>\n",
       "      <th>75%</th>\n",
       "      <td>112500.250000</td>\n",
       "      <td>54.000000</td>\n",
       "      <td>2018.000000</td>\n",
       "      <td>13636.000000</td>\n",
       "    </tr>\n",
       "    <tr>\n",
       "      <th>max</th>\n",
       "      <td>150000.000000</td>\n",
       "      <td>85.000000</td>\n",
       "      <td>2019.000000</td>\n",
       "      <td>103520.000000</td>\n",
       "    </tr>\n",
       "  </tbody>\n",
       "</table>\n",
       "</div>"
      ],
      "text/plain": [
       "                  Id            Age  Customer_since  Past_purchase\n",
       "count  150000.000000  150000.000000   150000.000000  150000.000000\n",
       "mean    75000.500000      43.805660     2015.507960   11244.207287\n",
       "std     43301.414527      14.828219        2.685645    8458.166886\n",
       "min         1.000000      23.000000     2008.000000     208.000000\n",
       "25%     37500.750000      30.000000     2013.000000    6034.750000\n",
       "50%     75000.500000      43.000000     2017.000000    8926.000000\n",
       "75%    112500.250000      54.000000     2018.000000   13636.000000\n",
       "max    150000.000000      85.000000     2019.000000  103520.000000"
      ]
     },
     "execution_count": 392,
     "metadata": {},
     "output_type": "execute_result"
    }
   ],
   "source": [
    "df.describe()"
   ]
  },
  {
   "cell_type": "markdown",
   "metadata": {},
   "source": [
    "## Initial Inferences about the Numerical Columns:-\n",
    "\n",
    "1. We can ignore the \"Id\" column for analysis purposes as these just indicate the customer numbers from 1 to 150000.\n",
    "\n",
    "\n",
    "\n",
    "2. The average age of all the customers is 43 years while the customer with least age is 23 and the oldest customer is 85 years old. This clearly shows that the store has customers from all age-groups \n",
    "\n",
    "\n",
    "\n",
    "3. The high concentration of the customers are the oneswho have been a customer since 2015 while the oldest customer is from 2008 and the newest customer is from 2019.\n",
    "\n",
    "\n",
    "\n",
    "4. Looking at the past purchases of customers, we can see that the minimum purchase has been done for Rs 208 while the maximum is for Rs 103520 while the average customer spends Rs. 11244 when he visits. This means that the store is certainly no ordinary store as it has items worth Rs. 100k that can be bought too. (**An electronics store maybe?**)\n",
    "\n"
   ]
  },
  {
   "cell_type": "code",
   "execution_count": 393,
   "metadata": {},
   "outputs": [
    {
     "data": {
      "text/html": [
       "<div>\n",
       "<style scoped>\n",
       "    .dataframe tbody tr th:only-of-type {\n",
       "        vertical-align: middle;\n",
       "    }\n",
       "\n",
       "    .dataframe tbody tr th {\n",
       "        vertical-align: top;\n",
       "    }\n",
       "\n",
       "    .dataframe thead th {\n",
       "        text-align: right;\n",
       "    }\n",
       "</style>\n",
       "<table border=\"1\" class=\"dataframe\">\n",
       "  <thead>\n",
       "    <tr style=\"text-align: right;\">\n",
       "      <th></th>\n",
       "      <th>State</th>\n",
       "      <th>Occupation</th>\n",
       "      <th>Income_group</th>\n",
       "      <th>Loyalty_program</th>\n",
       "      <th>Purchase</th>\n",
       "    </tr>\n",
       "  </thead>\n",
       "  <tbody>\n",
       "    <tr>\n",
       "      <th>count</th>\n",
       "      <td>150000</td>\n",
       "      <td>150000</td>\n",
       "      <td>150000</td>\n",
       "      <td>132176</td>\n",
       "      <td>150000</td>\n",
       "    </tr>\n",
       "    <tr>\n",
       "      <th>unique</th>\n",
       "      <td>34</td>\n",
       "      <td>4</td>\n",
       "      <td>4</td>\n",
       "      <td>2</td>\n",
       "      <td>2</td>\n",
       "    </tr>\n",
       "    <tr>\n",
       "      <th>top</th>\n",
       "      <td>Maharashtra</td>\n",
       "      <td>Self employed</td>\n",
       "      <td>Low</td>\n",
       "      <td>No</td>\n",
       "      <td>No</td>\n",
       "    </tr>\n",
       "    <tr>\n",
       "      <th>freq</th>\n",
       "      <td>21968</td>\n",
       "      <td>61375</td>\n",
       "      <td>63523</td>\n",
       "      <td>88182</td>\n",
       "      <td>114537</td>\n",
       "    </tr>\n",
       "  </tbody>\n",
       "</table>\n",
       "</div>"
      ],
      "text/plain": [
       "              State     Occupation Income_group Loyalty_program Purchase\n",
       "count        150000         150000       150000          132176   150000\n",
       "unique           34              4            4               2        2\n",
       "top     Maharashtra  Self employed          Low              No       No\n",
       "freq          21968          61375        63523           88182   114537"
      ]
     },
     "execution_count": 393,
     "metadata": {},
     "output_type": "execute_result"
    }
   ],
   "source": [
    "df.describe(exclude=np.number)"
   ]
  },
  {
   "cell_type": "markdown",
   "metadata": {},
   "source": [
    "## Initial Inferences about the Categorical Columns:-\n",
    "\n",
    "1. We can see that this store has customers from 34 different states in India. This certainly includes Union Territories as well as there are only 29 states. Since it has such a diversity of customers, we can either recognise it as a famous store at a location in India which is popular throughout or it is an online store\n",
    "\n",
    "\n",
    "2. Maharashtra has the highest number of customers(21968) out of all states while a whooping total of 61375 customers are Self-Employed\n",
    "\n",
    "\n",
    "3. Mostly low income people are the customers of the store. This is kind of contradicting with the fact that the average purchase of a customer is around Rs.11000\n",
    "\n",
    "\n",
    "4. Most of the customers who gave an answer for Loyalty Program arent using the Loyalty Program Scheme"
   ]
  },
  {
   "cell_type": "markdown",
   "metadata": {},
   "source": [
    "## Assumptions as of now:-\n",
    "\n",
    "1. This dataset is probably the data of a highly renowed store that has its branches across all over India or an Online Shopping firm\n",
    "\n",
    "\n",
    "2. The Purchase Column is highly correlated with Loyalty Program column\n",
    "\n",
    "\n",
    "3. The Age and Customer Since columns must be correlated"
   ]
  },
  {
   "cell_type": "markdown",
   "metadata": {},
   "source": [
    "## Data Cleaning and Exploratory Data Analysis"
   ]
  },
  {
   "cell_type": "markdown",
   "metadata": {},
   "source": [
    "Since there are less number of columns, let us look at each column and their unique values one by one to understand if they have null values or not"
   ]
  },
  {
   "cell_type": "code",
   "execution_count": 394,
   "metadata": {},
   "outputs": [
    {
     "name": "stdout",
     "output_type": "stream",
     "text": [
      "<class 'float'>\n"
     ]
    }
   ],
   "source": [
    "print(type(np.nan))"
   ]
  },
  {
   "cell_type": "code",
   "execution_count": 395,
   "metadata": {},
   "outputs": [
    {
     "name": "stdout",
     "output_type": "stream",
     "text": [
      "int64 0\n"
     ]
    }
   ],
   "source": [
    "print(df['Id'].dtype,df['Id'].isnull().sum())"
   ]
  },
  {
   "cell_type": "markdown",
   "metadata": {},
   "source": [
    "We can clearly see that the \"Nan\" value is of the type \"Float\" while the column \"Id\" is of type \"Integer\" and there are no null values in it. So the Id column is clear of null values\n",
    "\n",
    "Lets move on with the next column"
   ]
  },
  {
   "cell_type": "code",
   "execution_count": 396,
   "metadata": {},
   "outputs": [
    {
     "data": {
      "text/plain": [
       "34"
      ]
     },
     "execution_count": 396,
     "metadata": {},
     "output_type": "execute_result"
    }
   ],
   "source": [
    "df['State'].value_counts().count()"
   ]
  },
  {
   "cell_type": "markdown",
   "metadata": {},
   "source": [
    "It is given that there are 34 states in total while we only have 29 states and 7 Union territories in India"
   ]
  },
  {
   "cell_type": "code",
   "execution_count": 397,
   "metadata": {},
   "outputs": [
    {
     "data": {
      "text/plain": [
       "array(['Uttar Pradesh', 'Madhya Pradesh', 'West Bengal', 'Tamil Nadu',\n",
       "       'Maharashtra', 'Kerala', 'Goa', 'Karnataka', 'Andhra Pradesh',\n",
       "       'Telangana', 'Chandigarh', 'Nagaland',\n",
       "       'Andaman and Nicobar Islands', 'Tripura', 'Delhi',\n",
       "       'Himachal Pradesh', ' ', 'Puducherry', 'Sikkim', 'Gujarat',\n",
       "       'Odisha', 'Bihar', 'Punjab', 'Arunachal Pradesh', 'Haryana',\n",
       "       'Rajasthan', 'Uttarakhand', 'Jammu and Kashmir', 'Assam',\n",
       "       'Manipur', 'Mizoram', 'Jharkhand', 'Chhattisgarh', 'Meghalaya'],\n",
       "      dtype=object)"
      ]
     },
     "execution_count": 397,
     "metadata": {},
     "output_type": "execute_result"
    }
   ],
   "source": [
    "df['State'].unique()"
   ]
  },
  {
   "cell_type": "markdown",
   "metadata": {},
   "source": [
    "Observing this list, we can clearly see that this contains a list of **all 29 states**, **4 union territories** and **an empty string**"
   ]
  },
  {
   "cell_type": "code",
   "execution_count": 398,
   "metadata": {},
   "outputs": [
    {
     "data": {
      "text/plain": [
       "1842"
      ]
     },
     "execution_count": 398,
     "metadata": {},
     "output_type": "execute_result"
    }
   ],
   "source": [
    "a = df.loc[df['State']==' ']\n",
    "len(a)"
   ]
  },
  {
   "cell_type": "markdown",
   "metadata": {},
   "source": [
    "There are 1842 instances in which there is an empty string in the place of a state.\n",
    "\n",
    "\n",
    "We can just drop these rows as these might contain other useful information about customers. \n",
    "\n",
    "\n",
    "Let us see how we can fill the values in this column with **nan** and treat all these nan values at once"
   ]
  },
  {
   "cell_type": "code",
   "execution_count": 399,
   "metadata": {},
   "outputs": [],
   "source": [
    "df['State'].replace(' ',np.nan,inplace=True)"
   ]
  },
  {
   "cell_type": "code",
   "execution_count": 400,
   "metadata": {},
   "outputs": [
    {
     "data": {
      "text/plain": [
       "1842"
      ]
     },
     "execution_count": 400,
     "metadata": {},
     "output_type": "execute_result"
    }
   ],
   "source": [
    "df['State'].isnull().sum()\n",
    "\n",
    "\n",
    "#We can see that all the empty strings are replaced by null values"
   ]
  },
  {
   "cell_type": "markdown",
   "metadata": {},
   "source": [
    "Let us now proceed with \"Age\" column"
   ]
  },
  {
   "cell_type": "code",
   "execution_count": 401,
   "metadata": {},
   "outputs": [
    {
     "name": "stdout",
     "output_type": "stream",
     "text": [
      "int64 0\n"
     ]
    }
   ],
   "source": [
    "print(df['Age'].dtype,df['Age'].isnull().sum())"
   ]
  },
  {
   "cell_type": "markdown",
   "metadata": {},
   "source": [
    "**Once again, we can see that the \"Age\" column has no null values**"
   ]
  },
  {
   "cell_type": "code",
   "execution_count": 402,
   "metadata": {},
   "outputs": [
    {
     "data": {
      "text/plain": [
       "Self employed    61375\n",
       "Salaried         44214\n",
       "                 42777\n",
       "Business          1634\n",
       "Name: Occupation, dtype: int64"
      ]
     },
     "execution_count": 402,
     "metadata": {},
     "output_type": "execute_result"
    }
   ],
   "source": [
    "df['Occupation'].value_counts()"
   ]
  },
  {
   "cell_type": "markdown",
   "metadata": {},
   "source": [
    "We can see that this column has a huge chunk of empty strings which are almost 30% size of the total entries.\n",
    "\n",
    "Let us now replace these values with null values so we can treat them in a while"
   ]
  },
  {
   "cell_type": "code",
   "execution_count": 403,
   "metadata": {},
   "outputs": [],
   "source": [
    "df['Occupation'].replace(' ',np.nan,inplace=True)"
   ]
  },
  {
   "cell_type": "code",
   "execution_count": 404,
   "metadata": {},
   "outputs": [
    {
     "data": {
      "text/plain": [
       "42777"
      ]
     },
     "execution_count": 404,
     "metadata": {},
     "output_type": "execute_result"
    }
   ],
   "source": [
    "df['Occupation'].isnull().sum()\n",
    "\n",
    "#Moving on"
   ]
  },
  {
   "cell_type": "code",
   "execution_count": 405,
   "metadata": {},
   "outputs": [
    {
     "data": {
      "text/plain": [
       "Low       63523\n",
       "High      41808\n",
       "Medium    41232\n",
       "           3437\n",
       "Name: Income_group, dtype: int64"
      ]
     },
     "execution_count": 405,
     "metadata": {},
     "output_type": "execute_result"
    }
   ],
   "source": [
    "df['Income_group'].value_counts()"
   ]
  },
  {
   "cell_type": "markdown",
   "metadata": {},
   "source": [
    "\"Income Group\" also has empty strings but its frequency is quite less compared to the total size so we can potentially drop the columns but lets just fill these with null values for now"
   ]
  },
  {
   "cell_type": "code",
   "execution_count": 406,
   "metadata": {},
   "outputs": [
    {
     "data": {
      "text/plain": [
       "3437"
      ]
     },
     "execution_count": 406,
     "metadata": {},
     "output_type": "execute_result"
    }
   ],
   "source": [
    "df['Income_group'].replace(' ',np.nan,inplace=True)\n",
    "df['Income_group'].isnull().sum()"
   ]
  },
  {
   "cell_type": "code",
   "execution_count": 407,
   "metadata": {},
   "outputs": [
    {
     "data": {
      "text/plain": [
       "0"
      ]
     },
     "execution_count": 407,
     "metadata": {},
     "output_type": "execute_result"
    }
   ],
   "source": [
    "df['Customer_since'].isnull().sum()\n",
    "\n",
    "\n",
    "#No null values in Customers_since column"
   ]
  },
  {
   "cell_type": "code",
   "execution_count": 408,
   "metadata": {},
   "outputs": [
    {
     "name": "stdout",
     "output_type": "stream",
     "text": [
      "No     88182\n",
      "Yes    43994\n",
      "Name: Loyalty_program, dtype: int64 \n",
      " 17824\n"
     ]
    }
   ],
   "source": [
    "print(df['Loyalty_program'].value_counts(),'\\n',df['Loyalty_program'].isnull().sum())"
   ]
  },
  {
   "cell_type": "markdown",
   "metadata": {},
   "source": [
    "\"Loyalty_program\" doesn't have an empty string unlike the other categorical columns and there are already null values in it so lets skip it for now"
   ]
  },
  {
   "cell_type": "code",
   "execution_count": 409,
   "metadata": {},
   "outputs": [
    {
     "data": {
      "text/plain": [
       "0"
      ]
     },
     "execution_count": 409,
     "metadata": {},
     "output_type": "execute_result"
    }
   ],
   "source": [
    "df['Past_purchase'].isnull().sum()\n",
    "\n",
    "#No null values"
   ]
  },
  {
   "cell_type": "code",
   "execution_count": 410,
   "metadata": {},
   "outputs": [
    {
     "data": {
      "text/plain": [
       "0"
      ]
     },
     "execution_count": 410,
     "metadata": {},
     "output_type": "execute_result"
    }
   ],
   "source": [
    "df['Purchase'].isnull().sum()\n",
    "\n",
    "#No null values"
   ]
  },
  {
   "cell_type": "markdown",
   "metadata": {},
   "source": [
    "### Finished converting all the unindentified values into null values"
   ]
  },
  {
   "cell_type": "markdown",
   "metadata": {},
   "source": [
    "## Treating Null Values "
   ]
  },
  {
   "cell_type": "markdown",
   "metadata": {},
   "source": [
    "Missingno library offers a very nice way to visualize the distribution of NaN values. Missingno is a Python library and compatible with Pandas."
   ]
  },
  {
   "cell_type": "code",
   "execution_count": 411,
   "metadata": {},
   "outputs": [
    {
     "data": {
      "text/plain": [
       "<matplotlib.axes._subplots.AxesSubplot at 0x1e83fd1ae08>"
      ]
     },
     "execution_count": 411,
     "metadata": {},
     "output_type": "execute_result"
    },
    {
     "data": {
      "image/png": "[encoded data removed]",
      "text/plain": [
       "<Figure size 1800x720 with 2 Axes>"
      ]
     },
     "metadata": {
      "needs_background": "light"
     },
     "output_type": "display_data"
    }
   ],
   "source": [
    "msg.matrix(df)"
   ]
  },
  {
   "cell_type": "markdown",
   "metadata": {},
   "source": [
    "We can clearly see that **State** and **income_group** columns have very less missing values while **Occupation** and **Loyalty_Program** have high number of missing values"
   ]
  },
  {
   "cell_type": "code",
   "execution_count": 412,
   "metadata": {},
   "outputs": [
    {
     "data": {
      "text/plain": [
       "<matplotlib.axes._subplots.AxesSubplot at 0x1e85c6856c8>"
      ]
     },
     "execution_count": 412,
     "metadata": {},
     "output_type": "execute_result"
    },
    {
     "data": {
      "image/png": "[encoded data removed]",
      "text/plain": [
       "<Figure size 1440x864 with 2 Axes>"
      ]
     },
     "metadata": {
      "needs_background": "light"
     },
     "output_type": "display_data"
    }
   ],
   "source": [
    "msg.heatmap(df)"
   ]
  },
  {
   "cell_type": "markdown",
   "metadata": {},
   "source": [
    "From this heatmap and by the matrix in missingno, we can clearly see that the values missing in the columns are not correlated at all.\n",
    "\n",
    "This means that each column has missing values that are unique and their occurance doesnt depend upon the occurance of other missing values"
   ]
  },
  {
   "cell_type": "code",
   "execution_count": 413,
   "metadata": {},
   "outputs": [
    {
     "data": {
      "text/plain": [
       "<matplotlib.axes._subplots.AxesSubplot at 0x1e83fdc6d08>"
      ]
     },
     "execution_count": 413,
     "metadata": {},
     "output_type": "execute_result"
    },
    {
     "data": {
      "image/png": "[encoded data removed]",
      "text/plain": [
       "<Figure size 1728x720 with 3 Axes>"
      ]
     },
     "metadata": {
      "needs_background": "light"
     },
     "output_type": "display_data"
    }
   ],
   "source": [
    "msg.bar(df)"
   ]
  },
  {
   "cell_type": "markdown",
   "metadata": {},
   "source": [
    "## Inference:-\n",
    "\n",
    "\n",
    "1. In the given 9 columns in the dataset, 4 columns have missing values in them whose percentages range from 0% to less than 28%.\n",
    "\n",
    "2. Out of the columns which have missing values, no column is correlated with one another which can be observed from Missingno matrix and heatmap"
   ]
  },
  {
   "cell_type": "code",
   "execution_count": 414,
   "metadata": {},
   "outputs": [
    {
     "name": "stdout",
     "output_type": "stream",
     "text": [
      "Id                 0.000000\n",
      "State              0.012280\n",
      "Age                0.000000\n",
      "Occupation         0.285180\n",
      "Income_group       0.022913\n",
      "Customer_since     0.000000\n",
      "Loyalty_program    0.118827\n",
      "Past_purchase      0.000000\n",
      "Purchase           0.000000\n",
      "dtype: float64%\n"
     ]
    }
   ],
   "source": [
    "print(f'{df.isnull().sum()/len(df)}%')"
   ]
  },
  {
   "cell_type": "markdown",
   "metadata": {},
   "source": [
    "As we can see, **Occupation** column has the highest percentage of missing values followed by **Loyalty_program** while the others have very less records."
   ]
  },
  {
   "cell_type": "markdown",
   "metadata": {},
   "source": [
    "## My Plan for Treating Nan Values:-\n",
    "\n",
    "1. Find the correlation of the columns with missing values to the target column and sort them accordingly\n",
    "2. Identify the columns based on their descending hierarchial order.\n",
    "3. For highly correlated columns with less missing values, since all the records are important, donot drop them\n",
    "4. For very low correlated columns with less missing values, impute the nan values with the mode\n",
    "5. For highly correlated columns with more missing values, use supervised ml algorithms to predict the nan values\n",
    "6. For very low correlated columns with more missing values, impute accordingly"
   ]
  },
  {
   "cell_type": "markdown",
   "metadata": {},
   "source": [
    "Let us carry the process to treat the null values now.\n",
    "\n",
    "Let us start with **State** column"
   ]
  },
  {
   "cell_type": "code",
   "execution_count": 415,
   "metadata": {},
   "outputs": [
    {
     "data": {
      "text/plain": [
       "array(['Uttar Pradesh', 'Madhya Pradesh', 'West Bengal', 'Tamil Nadu',\n",
       "       'Maharashtra', 'Kerala', 'Goa', 'Karnataka', 'Andhra Pradesh',\n",
       "       'Telangana', 'Chandigarh', 'Nagaland',\n",
       "       'Andaman and Nicobar Islands', 'Tripura', 'Delhi',\n",
       "       'Himachal Pradesh', nan, 'Puducherry', 'Sikkim', 'Gujarat',\n",
       "       'Odisha', 'Bihar', 'Punjab', 'Arunachal Pradesh', 'Haryana',\n",
       "       'Rajasthan', 'Uttarakhand', 'Jammu and Kashmir', 'Assam',\n",
       "       'Manipur', 'Mizoram', 'Jharkhand', 'Chhattisgarh', 'Meghalaya'],\n",
       "      dtype=object)"
      ]
     },
     "execution_count": 415,
     "metadata": {},
     "output_type": "execute_result"
    }
   ],
   "source": [
    "df['State'].unique()"
   ]
  },
  {
   "cell_type": "markdown",
   "metadata": {},
   "source": [
    "The **State** column has 34 unique categories so it becomes very difficult to calculate the correlation with the **Purchase** column so let us just use the **Measure of Central Tendency** to fill the nan values"
   ]
  },
  {
   "cell_type": "code",
   "execution_count": 416,
   "metadata": {},
   "outputs": [
    {
     "data": {
      "text/plain": [
       "Maharashtra                    21968\n",
       "Tamil Nadu                     17836\n",
       "Uttar Pradesh                  16400\n",
       "Karnataka                      11689\n",
       "Gujarat                         7864\n",
       "West Bengal                     7751\n",
       "Telangana                       4783\n",
       "Andhra Pradesh                  4781\n",
       "Rajasthan                       4621\n",
       "Kerala                          3718\n",
       "Madhya Pradesh                  3680\n",
       "Delhi                           3572\n",
       "Bihar                           3225\n",
       "Haryana                         3197\n",
       "Punjab                          3113\n",
       "Odisha                          2773\n",
       "Assam                           2638\n",
       "Chhattisgarh                    2366\n",
       "Jharkhand                       2242\n",
       "Uttarakhand                     1984\n",
       "Jammu and Kashmir               1962\n",
       "Himachal Pradesh                1763\n",
       "Goa                             1735\n",
       "Tripura                         1735\n",
       "Chandigarh                      1583\n",
       "Puducherry                      1503\n",
       "Meghalaya                       1231\n",
       "Sikkim                          1200\n",
       "Nagaland                        1133\n",
       "Manipur                         1108\n",
       "Arunachal Pradesh               1065\n",
       "Mizoram                          984\n",
       "Andaman and Nicobar Islands      955\n",
       "Name: State, dtype: int64"
      ]
     },
     "execution_count": 416,
     "metadata": {},
     "output_type": "execute_result"
    }
   ],
   "source": [
    "df['State'].value_counts()"
   ]
  },
  {
   "cell_type": "code",
   "execution_count": 417,
   "metadata": {},
   "outputs": [],
   "source": [
    "a = list(df.loc[df['State'].isnull()].index)\n",
    "b,c = [i-1 for i in a],[i+1 for i in a]"
   ]
  },
  {
   "cell_type": "code",
   "execution_count": 418,
   "metadata": {},
   "outputs": [],
   "source": [
    "sb = pd.DataFrame(df.loc[b]['State'])\n",
    "sc = pd.DataFrame(df.loc[c]['State'])"
   ]
  },
  {
   "cell_type": "markdown",
   "metadata": {},
   "source": [
    "Here, I created two Dataframes which shows the name of the states which are **above** and **below the Nan values** in original dataframes.\n",
    "\n",
    "The reason here is to inspect the percentage of the top 4 values in each dataframe to see if the trend is similar "
   ]
  },
  {
   "cell_type": "code",
   "execution_count": 419,
   "metadata": {},
   "outputs": [
    {
     "data": {
      "text/plain": [
       "Maharashtra                    14.645333\n",
       "Tamil Nadu                     11.890667\n",
       "Uttar Pradesh                  10.933333\n",
       "Karnataka                       7.792667\n",
       "Gujarat                         5.242667\n",
       "West Bengal                     5.167333\n",
       "Telangana                       3.188667\n",
       "Andhra Pradesh                  3.187333\n",
       "Rajasthan                       3.080667\n",
       "Kerala                          2.478667\n",
       "Madhya Pradesh                  2.453333\n",
       "Delhi                           2.381333\n",
       "Bihar                           2.150000\n",
       "Haryana                         2.131333\n",
       "Punjab                          2.075333\n",
       "Odisha                          1.848667\n",
       "Assam                           1.758667\n",
       "Chhattisgarh                    1.577333\n",
       "Jharkhand                       1.494667\n",
       "Uttarakhand                     1.322667\n",
       "Jammu and Kashmir               1.308000\n",
       "Himachal Pradesh                1.175333\n",
       "Goa                             1.156667\n",
       "Tripura                         1.156667\n",
       "Chandigarh                      1.055333\n",
       "Puducherry                      1.002000\n",
       "Meghalaya                       0.820667\n",
       "Sikkim                          0.800000\n",
       "Nagaland                        0.755333\n",
       "Manipur                         0.738667\n",
       "Arunachal Pradesh               0.710000\n",
       "Mizoram                         0.656000\n",
       "Andaman and Nicobar Islands     0.636667\n",
       "Name: State, dtype: float64"
      ]
     },
     "execution_count": 419,
     "metadata": {},
     "output_type": "execute_result"
    }
   ],
   "source": [
    "a1 = df['State'].value_counts()/len(df)*100\n",
    "a1"
   ]
  },
  {
   "cell_type": "code",
   "execution_count": 420,
   "metadata": {},
   "outputs": [
    {
     "data": {
      "text/plain": [
       "Maharashtra                    15.092291\n",
       "Uttar Pradesh                  12.486428\n",
       "Tamil Nadu                     11.454940\n",
       "Karnataka                       7.654723\n",
       "West Bengal                     6.026059\n",
       "Gujarat                         5.754615\n",
       "Andhra Pradesh                  3.528773\n",
       "Telangana                       3.148751\n",
       "Rajasthan                       3.094463\n",
       "Delhi                           2.280130\n",
       "Haryana                         2.117264\n",
       "Madhya Pradesh                  2.062975\n",
       "Punjab                          1.900109\n",
       "Bihar                           1.900109\n",
       "Kerala                          1.845820\n",
       "Jharkhand                       1.737242\n",
       "Puducherry                      1.628664\n",
       "Chhattisgarh                    1.628664\n",
       "Himachal Pradesh                1.465798\n",
       "Jammu and Kashmir               1.465798\n",
       "Assam                           1.357220\n",
       "Meghalaya                       1.248643\n",
       "Odisha                          1.085776\n",
       "Tripura                         0.977199\n",
       "Chandigarh                      0.814332\n",
       "Arunachal Pradesh               0.814332\n",
       "Goa                             0.760043\n",
       "Manipur                         0.705755\n",
       "Andaman and Nicobar Islands     0.705755\n",
       "Uttarakhand                     0.651466\n",
       "Mizoram                         0.651466\n",
       "Sikkim                          0.651466\n",
       "Nagaland                        0.488599\n",
       "Name: State, dtype: float64"
      ]
     },
     "execution_count": 420,
     "metadata": {},
     "output_type": "execute_result"
    }
   ],
   "source": [
    "a2 = sb['State'].value_counts()/len(sb)*100\n",
    "a2"
   ]
  },
  {
   "cell_type": "code",
   "execution_count": 421,
   "metadata": {},
   "outputs": [
    {
     "data": {
      "text/plain": [
       "Maharashtra                    14.766558\n",
       "Tamil Nadu                     11.509229\n",
       "Uttar Pradesh                  10.586319\n",
       "Karnataka                       7.111835\n",
       "West Bengal                     5.754615\n",
       "Gujarat                         4.668838\n",
       "Rajasthan                       3.745928\n",
       "Andhra Pradesh                  3.257329\n",
       "Telangana                       2.768730\n",
       "Kerala                          2.660152\n",
       "Madhya Pradesh                  2.605863\n",
       "Delhi                           2.497286\n",
       "Odisha                          2.442997\n",
       "Punjab                          2.388708\n",
       "Bihar                           2.388708\n",
       "Assam                           2.117264\n",
       "Haryana                         1.900109\n",
       "Uttarakhand                     1.791531\n",
       "Chhattisgarh                    1.302932\n",
       "Puducherry                      1.302932\n",
       "Sikkim                          1.248643\n",
       "Tripura                         1.194354\n",
       "Himachal Pradesh                1.085776\n",
       "Jammu and Kashmir               1.085776\n",
       "Jharkhand                       1.031488\n",
       "Chandigarh                      1.031488\n",
       "Meghalaya                       0.922910\n",
       "Mizoram                         0.814332\n",
       "Nagaland                        0.760043\n",
       "Arunachal Pradesh               0.705755\n",
       "Goa                             0.651466\n",
       "Andaman and Nicobar Islands     0.542888\n",
       "Manipur                         0.542888\n",
       "Name: State, dtype: float64"
      ]
     },
     "execution_count": 421,
     "metadata": {},
     "output_type": "execute_result"
    }
   ],
   "source": [
    "a3 = sc['State'].value_counts()/len(sc)*100\n",
    "a3"
   ]
  },
  {
   "cell_type": "code",
   "execution_count": 422,
   "metadata": {},
   "outputs": [
    {
     "name": "stdout",
     "output_type": "stream",
     "text": [
      "0.41366775244300036 0.41366775244300213\n"
     ]
    }
   ],
   "source": [
    "print(sum(a2-a1),sum(a3-a1))"
   ]
  },
  {
   "cell_type": "markdown",
   "metadata": {},
   "source": [
    "### What did I do here\n",
    "\n",
    "\n",
    "1. First, I checked the number of times each state is registered in the dataset and stored it in a variable 'a1'.\n",
    "2. Next, I seperated the indexes of null values in states and selected the indexes one less and one greather than the null values.\n",
    "3. By checking the percentages of states in the three dataframes(original,null-1,null+1) and comparing them, I found out that the original dataframe's distribution is a lot similar to the null+1 distribution by a minute margin\n",
    "\n",
    "\n",
    "Now that we have determined that the next value is to be imputed, we can easily do this by using bfill() method in pandas"
   ]
  },
  {
   "cell_type": "code",
   "execution_count": 423,
   "metadata": {},
   "outputs": [],
   "source": [
    "df['State'].bfill(inplace=True)"
   ]
  },
  {
   "cell_type": "code",
   "execution_count": 424,
   "metadata": {},
   "outputs": [
    {
     "data": {
      "text/plain": [
       "0"
      ]
     },
     "execution_count": 424,
     "metadata": {},
     "output_type": "execute_result"
    }
   ],
   "source": [
    "df['State'].isnull().sum()"
   ]
  },
  {
   "cell_type": "markdown",
   "metadata": {},
   "source": [
    "**Let us now handle the missing values in other columns by determining their correlations**"
   ]
  },
  {
   "cell_type": "code",
   "execution_count": 425,
   "metadata": {},
   "outputs": [],
   "source": [
    "from scipy.stats import chi2_contingency"
   ]
  },
  {
   "cell_type": "code",
   "execution_count": 426,
   "metadata": {},
   "outputs": [
    {
     "data": {
      "text/html": [
       "<div>\n",
       "<style scoped>\n",
       "    .dataframe tbody tr th:only-of-type {\n",
       "        vertical-align: middle;\n",
       "    }\n",
       "\n",
       "    .dataframe tbody tr th {\n",
       "        vertical-align: top;\n",
       "    }\n",
       "\n",
       "    .dataframe thead th {\n",
       "        text-align: right;\n",
       "    }\n",
       "</style>\n",
       "<table border=\"1\" class=\"dataframe\">\n",
       "  <thead>\n",
       "    <tr style=\"text-align: right;\">\n",
       "      <th></th>\n",
       "      <th>Pair</th>\n",
       "      <th>Hypothesis</th>\n",
       "    </tr>\n",
       "  </thead>\n",
       "  <tbody>\n",
       "    <tr>\n",
       "      <th>0</th>\n",
       "      <td>Loyalty_program-No</td>\n",
       "      <td>Reject Null Hypothesis</td>\n",
       "    </tr>\n",
       "    <tr>\n",
       "      <th>1</th>\n",
       "      <td>Loyalty_program-Yes</td>\n",
       "      <td>Reject Null Hypothesis</td>\n",
       "    </tr>\n",
       "    <tr>\n",
       "      <th>2</th>\n",
       "      <td>Occupation-Business</td>\n",
       "      <td>Reject Null Hypothesis</td>\n",
       "    </tr>\n",
       "    <tr>\n",
       "      <th>3</th>\n",
       "      <td>Occupation-Salaried</td>\n",
       "      <td>Reject Null Hypothesis</td>\n",
       "    </tr>\n",
       "    <tr>\n",
       "      <th>4</th>\n",
       "      <td>Occupation-Self employed</td>\n",
       "      <td>Reject Null Hypothesis</td>\n",
       "    </tr>\n",
       "    <tr>\n",
       "      <th>5</th>\n",
       "      <td>Income_group-High</td>\n",
       "      <td>Reject Null Hypothesis</td>\n",
       "    </tr>\n",
       "    <tr>\n",
       "      <th>6</th>\n",
       "      <td>Income_group-Low</td>\n",
       "      <td>Reject Null Hypothesis</td>\n",
       "    </tr>\n",
       "    <tr>\n",
       "      <th>7</th>\n",
       "      <td>Income_group-Medium</td>\n",
       "      <td>Reject Null Hypothesis</td>\n",
       "    </tr>\n",
       "  </tbody>\n",
       "</table>\n",
       "</div>"
      ],
      "text/plain": [
       "                       Pair              Hypothesis\n",
       "0        Loyalty_program-No  Reject Null Hypothesis\n",
       "1       Loyalty_program-Yes  Reject Null Hypothesis\n",
       "2       Occupation-Business  Reject Null Hypothesis\n",
       "3       Occupation-Salaried  Reject Null Hypothesis\n",
       "4  Occupation-Self employed  Reject Null Hypothesis\n",
       "5         Income_group-High  Reject Null Hypothesis\n",
       "6          Income_group-Low  Reject Null Hypothesis\n",
       "7       Income_group-Medium  Reject Null Hypothesis"
      ]
     },
     "execution_count": 426,
     "metadata": {},
     "output_type": "execute_result"
    }
   ],
   "source": [
    "categorical_columns = ['Loyalty_program','Occupation','Income_group']\n",
    "\n",
    "chi2_check = []\n",
    "for i in categorical_columns:\n",
    "    if chi2_contingency(pd.crosstab(df['Purchase'], df[i]))[1] < 0.05:\n",
    "        chi2_check.append('Reject Null Hypothesis')\n",
    "    else:\n",
    "        chi2_check.append('Fail to Reject Null Hypothesis')\n",
    "res = pd.DataFrame(data = [categorical_columns, chi2_check] \n",
    "             ).T \n",
    "res.columns = ['Column', 'Hypothesis']\n",
    "\n",
    "\n",
    "check = {}\n",
    "for i in res[res['Hypothesis'] == 'Reject Null Hypothesis']['Column']:\n",
    "    dummies = pd.get_dummies(df[i])\n",
    "    bon_p_value = 0.05/df[i].nunique()\n",
    "    for series in dummies:\n",
    "        if chi2_contingency(pd.crosstab(df['Purchase'], dummies[series]))[1] < bon_p_value:\n",
    "            check['{}-{}'.format(i, series)] = 'Reject Null Hypothesis'\n",
    "        else:\n",
    "            check['{}-{}'.format(i, series)] = 'Fail to Reject Null Hypothesis'\n",
    "res_chi_ph = pd.DataFrame(data = [check.keys(), check.values()]).T\n",
    "res_chi_ph.columns = ['Pair', 'Hypothesis']\n",
    "res_chi_ph"
   ]
  },
  {
   "cell_type": "markdown",
   "metadata": {},
   "source": [
    "From this, we can clearly see that each column rejected **Null Hypothesis** when it is correlated with **Purchase** column.\n",
    "\n",
    "This means that there is correlation exisitng between these categorical columns and target variable"
   ]
  },
  {
   "cell_type": "code",
   "execution_count": 427,
   "metadata": {},
   "outputs": [],
   "source": [
    "#Checking for any null values in all the three columns at specific indexes and dropping them\n",
    "\n",
    "a,b,c = df.loc[df['Occupation'].isnull()].index,df.loc[df['Income_group'].isnull()].index,df.loc[df['Loyalty_program'].isnull()].index\n",
    "s1 = set(a).intersection(set(b))\n",
    "s2 = s1.intersection(set(c))"
   ]
  },
  {
   "cell_type": "code",
   "execution_count": 428,
   "metadata": {},
   "outputs": [
    {
     "data": {
      "text/html": [
       "<div>\n",
       "<style scoped>\n",
       "    .dataframe tbody tr th:only-of-type {\n",
       "        vertical-align: middle;\n",
       "    }\n",
       "\n",
       "    .dataframe tbody tr th {\n",
       "        vertical-align: top;\n",
       "    }\n",
       "\n",
       "    .dataframe thead th {\n",
       "        text-align: right;\n",
       "    }\n",
       "</style>\n",
       "<table border=\"1\" class=\"dataframe\">\n",
       "  <thead>\n",
       "    <tr style=\"text-align: right;\">\n",
       "      <th></th>\n",
       "      <th>Id</th>\n",
       "      <th>State</th>\n",
       "      <th>Age</th>\n",
       "      <th>Occupation</th>\n",
       "      <th>Income_group</th>\n",
       "      <th>Customer_since</th>\n",
       "      <th>Loyalty_program</th>\n",
       "      <th>Past_purchase</th>\n",
       "      <th>Purchase</th>\n",
       "    </tr>\n",
       "  </thead>\n",
       "  <tbody>\n",
       "    <tr>\n",
       "      <th>36353</th>\n",
       "      <td>36354</td>\n",
       "      <td>Andaman and Nicobar Islands</td>\n",
       "      <td>69</td>\n",
       "      <td>NaN</td>\n",
       "      <td>NaN</td>\n",
       "      <td>2018</td>\n",
       "      <td>NaN</td>\n",
       "      <td>7277</td>\n",
       "      <td>No</td>\n",
       "    </tr>\n",
       "    <tr>\n",
       "      <th>61452</th>\n",
       "      <td>61453</td>\n",
       "      <td>Karnataka</td>\n",
       "      <td>58</td>\n",
       "      <td>NaN</td>\n",
       "      <td>NaN</td>\n",
       "      <td>2018</td>\n",
       "      <td>NaN</td>\n",
       "      <td>16327</td>\n",
       "      <td>Yes</td>\n",
       "    </tr>\n",
       "    <tr>\n",
       "      <th>115724</th>\n",
       "      <td>115725</td>\n",
       "      <td>Delhi</td>\n",
       "      <td>63</td>\n",
       "      <td>NaN</td>\n",
       "      <td>NaN</td>\n",
       "      <td>2018</td>\n",
       "      <td>NaN</td>\n",
       "      <td>11389</td>\n",
       "      <td>Yes</td>\n",
       "    </tr>\n",
       "    <tr>\n",
       "      <th>21013</th>\n",
       "      <td>21014</td>\n",
       "      <td>Sikkim</td>\n",
       "      <td>54</td>\n",
       "      <td>NaN</td>\n",
       "      <td>NaN</td>\n",
       "      <td>2018</td>\n",
       "      <td>NaN</td>\n",
       "      <td>3950</td>\n",
       "      <td>Yes</td>\n",
       "    </tr>\n",
       "    <tr>\n",
       "      <th>136726</th>\n",
       "      <td>136727</td>\n",
       "      <td>West Bengal</td>\n",
       "      <td>52</td>\n",
       "      <td>NaN</td>\n",
       "      <td>NaN</td>\n",
       "      <td>2019</td>\n",
       "      <td>NaN</td>\n",
       "      <td>2031</td>\n",
       "      <td>Yes</td>\n",
       "    </tr>\n",
       "    <tr>\n",
       "      <th>...</th>\n",
       "      <td>...</td>\n",
       "      <td>...</td>\n",
       "      <td>...</td>\n",
       "      <td>...</td>\n",
       "      <td>...</td>\n",
       "      <td>...</td>\n",
       "      <td>...</td>\n",
       "      <td>...</td>\n",
       "      <td>...</td>\n",
       "    </tr>\n",
       "    <tr>\n",
       "      <th>106475</th>\n",
       "      <td>106476</td>\n",
       "      <td>Uttar Pradesh</td>\n",
       "      <td>55</td>\n",
       "      <td>NaN</td>\n",
       "      <td>NaN</td>\n",
       "      <td>2018</td>\n",
       "      <td>NaN</td>\n",
       "      <td>7795</td>\n",
       "      <td>Yes</td>\n",
       "    </tr>\n",
       "    <tr>\n",
       "      <th>34284</th>\n",
       "      <td>34285</td>\n",
       "      <td>Uttar Pradesh</td>\n",
       "      <td>55</td>\n",
       "      <td>NaN</td>\n",
       "      <td>NaN</td>\n",
       "      <td>2018</td>\n",
       "      <td>NaN</td>\n",
       "      <td>9658</td>\n",
       "      <td>Yes</td>\n",
       "    </tr>\n",
       "    <tr>\n",
       "      <th>72176</th>\n",
       "      <td>72177</td>\n",
       "      <td>Tamil Nadu</td>\n",
       "      <td>72</td>\n",
       "      <td>NaN</td>\n",
       "      <td>NaN</td>\n",
       "      <td>2018</td>\n",
       "      <td>NaN</td>\n",
       "      <td>13012</td>\n",
       "      <td>Yes</td>\n",
       "    </tr>\n",
       "    <tr>\n",
       "      <th>38396</th>\n",
       "      <td>38397</td>\n",
       "      <td>Arunachal Pradesh</td>\n",
       "      <td>29</td>\n",
       "      <td>NaN</td>\n",
       "      <td>NaN</td>\n",
       "      <td>2018</td>\n",
       "      <td>NaN</td>\n",
       "      <td>9793</td>\n",
       "      <td>Yes</td>\n",
       "    </tr>\n",
       "    <tr>\n",
       "      <th>1533</th>\n",
       "      <td>1534</td>\n",
       "      <td>Sikkim</td>\n",
       "      <td>38</td>\n",
       "      <td>NaN</td>\n",
       "      <td>NaN</td>\n",
       "      <td>2018</td>\n",
       "      <td>NaN</td>\n",
       "      <td>6304</td>\n",
       "      <td>Yes</td>\n",
       "    </tr>\n",
       "  </tbody>\n",
       "</table>\n",
       "<p>101 rows × 9 columns</p>\n",
       "</div>"
      ],
      "text/plain": [
       "            Id                        State  Age Occupation Income_group  \\\n",
       "36353    36354  Andaman and Nicobar Islands   69        NaN          NaN   \n",
       "61452    61453                    Karnataka   58        NaN          NaN   \n",
       "115724  115725                        Delhi   63        NaN          NaN   \n",
       "21013    21014                       Sikkim   54        NaN          NaN   \n",
       "136726  136727                  West Bengal   52        NaN          NaN   \n",
       "...        ...                          ...  ...        ...          ...   \n",
       "106475  106476                Uttar Pradesh   55        NaN          NaN   \n",
       "34284    34285                Uttar Pradesh   55        NaN          NaN   \n",
       "72176    72177                   Tamil Nadu   72        NaN          NaN   \n",
       "38396    38397            Arunachal Pradesh   29        NaN          NaN   \n",
       "1533      1534                       Sikkim   38        NaN          NaN   \n",
       "\n",
       "        Customer_since Loyalty_program  Past_purchase Purchase  \n",
       "36353             2018             NaN           7277       No  \n",
       "61452             2018             NaN          16327      Yes  \n",
       "115724            2018             NaN          11389      Yes  \n",
       "21013             2018             NaN           3950      Yes  \n",
       "136726            2019             NaN           2031      Yes  \n",
       "...                ...             ...            ...      ...  \n",
       "106475            2018             NaN           7795      Yes  \n",
       "34284             2018             NaN           9658      Yes  \n",
       "72176             2018             NaN          13012      Yes  \n",
       "38396             2018             NaN           9793      Yes  \n",
       "1533              2018             NaN           6304      Yes  \n",
       "\n",
       "[101 rows x 9 columns]"
      ]
     },
     "execution_count": 428,
     "metadata": {},
     "output_type": "execute_result"
    }
   ],
   "source": [
    "df.loc[list(s2)]\n",
    "\n",
    "#Let us drop these rows"
   ]
  },
  {
   "cell_type": "code",
   "execution_count": 429,
   "metadata": {},
   "outputs": [],
   "source": [
    "df.drop(index=s2,inplace=True)"
   ]
  },
  {
   "cell_type": "code",
   "execution_count": 430,
   "metadata": {},
   "outputs": [
    {
     "data": {
      "text/plain": [
       "Id                 0.000000\n",
       "State              0.000000\n",
       "Age                0.000000\n",
       "Occupation         0.284698\n",
       "Income_group       0.022255\n",
       "Customer_since     0.000000\n",
       "Loyalty_program    0.118233\n",
       "Past_purchase      0.000000\n",
       "Purchase           0.000000\n",
       "dtype: float64"
      ]
     },
     "execution_count": 430,
     "metadata": {},
     "output_type": "execute_result"
    }
   ],
   "source": [
    "df.isnull().sum()/len(df)"
   ]
  },
  {
   "cell_type": "markdown",
   "metadata": {},
   "source": [
    "Let us fill the column of **income_group** the same way we did for **State**"
   ]
  },
  {
   "cell_type": "code",
   "execution_count": 431,
   "metadata": {},
   "outputs": [
    {
     "data": {
      "text/plain": [
       "Low       42.377201\n",
       "High      27.890780\n",
       "Medium    27.506521\n",
       "Name: Income_group, dtype: float64"
      ]
     },
     "execution_count": 431,
     "metadata": {},
     "output_type": "execute_result"
    }
   ],
   "source": [
    "i1 = df['Income_group'].value_counts()/len(df)*100\n",
    "i1"
   ]
  },
  {
   "cell_type": "code",
   "execution_count": 432,
   "metadata": {},
   "outputs": [],
   "source": [
    "inan = list(df.loc[df['Income_group'].isnull()].index)"
   ]
  },
  {
   "cell_type": "code",
   "execution_count": 433,
   "metadata": {},
   "outputs": [],
   "source": [
    "x,z = [i+1 for i in inan],[i-1 for i in inan]"
   ]
  },
  {
   "cell_type": "code",
   "execution_count": 434,
   "metadata": {},
   "outputs": [],
   "source": [
    "id2,id3 = df.reindex(x)['Income_group'],df.reindex(z)['Income_group']"
   ]
  },
  {
   "cell_type": "code",
   "execution_count": 435,
   "metadata": {},
   "outputs": [
    {
     "data": {
      "text/plain": [
       "Low       41.846523\n",
       "High      27.997602\n",
       "Medium    27.667866\n",
       "Name: Income_group, dtype: float64"
      ]
     },
     "execution_count": 435,
     "metadata": {},
     "output_type": "execute_result"
    }
   ],
   "source": [
    "x1 = id2.value_counts()/len(x)*100\n",
    "x1"
   ]
  },
  {
   "cell_type": "code",
   "execution_count": 436,
   "metadata": {},
   "outputs": [
    {
     "data": {
      "text/plain": [
       "Low       42.655875\n",
       "High      27.757794\n",
       "Medium    27.098321\n",
       "Name: Income_group, dtype: float64"
      ]
     },
     "execution_count": 436,
     "metadata": {},
     "output_type": "execute_result"
    }
   ],
   "source": [
    "x2 = id3.value_counts()/len(z)*100\n",
    "x2"
   ]
  },
  {
   "cell_type": "code",
   "execution_count": 437,
   "metadata": {},
   "outputs": [
    {
     "name": "stdout",
     "output_type": "stream",
     "text": [
      "0.2625110900012366 0.2625110900012402\n"
     ]
    }
   ],
   "source": [
    "print(sum(i1-x1),sum(i1-x2))"
   ]
  },
  {
   "cell_type": "markdown",
   "metadata": {},
   "source": [
    "This time, the index of z or nan-1 gave the most near result so let us fill the nan values by using ffill method"
   ]
  },
  {
   "cell_type": "code",
   "execution_count": 438,
   "metadata": {},
   "outputs": [],
   "source": [
    "df['Income_group'].ffill(inplace=True)"
   ]
  },
  {
   "cell_type": "code",
   "execution_count": 439,
   "metadata": {},
   "outputs": [
    {
     "data": {
      "text/plain": [
       "Id                 0.000000\n",
       "State              0.000000\n",
       "Age                0.000000\n",
       "Occupation         0.284698\n",
       "Income_group       0.000000\n",
       "Customer_since     0.000000\n",
       "Loyalty_program    0.118233\n",
       "Past_purchase      0.000000\n",
       "Purchase           0.000000\n",
       "dtype: float64"
      ]
     },
     "execution_count": 439,
     "metadata": {},
     "output_type": "execute_result"
    }
   ],
   "source": [
    "df.isnull().sum()/len(df)"
   ]
  },
  {
   "cell_type": "markdown",
   "metadata": {},
   "source": [
    "Let us now proceed to treat the nan values of **Loyalty Program**"
   ]
  },
  {
   "cell_type": "code",
   "execution_count": 440,
   "metadata": {},
   "outputs": [
    {
     "data": {
      "text/plain": [
       "<matplotlib.axes._subplots.AxesSubplot at 0x1e83f33b6c8>"
      ]
     },
     "execution_count": 440,
     "metadata": {},
     "output_type": "execute_result"
    },
    {
     "data": {
      "image/png": "[encoded data removed]",
      "text/plain": [
       "<Figure size 432x288 with 1 Axes>"
      ]
     },
     "metadata": {
      "needs_background": "light"
     },
     "output_type": "display_data"
    }
   ],
   "source": [
    "a = list(df['Loyalty_program'].unique())[0:1]+list(df['Loyalty_program'].unique())[2:]\n",
    "b = df['Loyalty_program'].value_counts()\n",
    "sns.barplot(a,b)"
   ]
  },
  {
   "cell_type": "markdown",
   "metadata": {},
   "source": [
    "We cannot directly impute the missing values here with the mode which is **No** because then the distribution will be even more skewed. \n",
    "\n",
    "So let us impute values in a similar fashion as we did above\n"
   ]
  },
  {
   "cell_type": "code",
   "execution_count": 441,
   "metadata": {},
   "outputs": [],
   "source": [
    "lpi = df.loc[df['Loyalty_program'].isnull()].index\n",
    "lp1 = df['Loyalty_program'].value_counts()/len(df)\n",
    "j,k = [i-1 for i in lpi],[i+1 for i in lpi]\n",
    "lp2 = df.reindex(j)['Loyalty_program'].value_counts()/len(j)\n",
    "lp3 = df.reindex(k)['Loyalty_program'].value_counts()/len(k)"
   ]
  },
  {
   "cell_type": "code",
   "execution_count": 442,
   "metadata": {},
   "outputs": [
    {
     "data": {
      "text/plain": [
       "No     0.588276\n",
       "Yes    0.293491\n",
       "Name: Loyalty_program, dtype: float64"
      ]
     },
     "execution_count": 442,
     "metadata": {},
     "output_type": "execute_result"
    }
   ],
   "source": [
    "lp1"
   ]
  },
  {
   "cell_type": "code",
   "execution_count": 443,
   "metadata": {},
   "outputs": [
    {
     "data": {
      "text/plain": [
       "No     0.586639\n",
       "Yes    0.292445\n",
       "Name: Loyalty_program, dtype: float64"
      ]
     },
     "execution_count": 443,
     "metadata": {},
     "output_type": "execute_result"
    }
   ],
   "source": [
    "lp2"
   ]
  },
  {
   "cell_type": "code",
   "execution_count": 444,
   "metadata": {},
   "outputs": [
    {
     "data": {
      "text/plain": [
       "No     0.587090\n",
       "Yes    0.291881\n",
       "Name: Loyalty_program, dtype: float64"
      ]
     },
     "execution_count": 444,
     "metadata": {},
     "output_type": "execute_result"
    }
   ],
   "source": [
    "lp3"
   ]
  },
  {
   "cell_type": "code",
   "execution_count": 445,
   "metadata": {},
   "outputs": [
    {
     "name": "stdout",
     "output_type": "stream",
     "text": [
      "0.0026833799062424 0.0027962276182549872\n"
     ]
    }
   ],
   "source": [
    "print(sum(lp1-lp2),sum(lp1-lp3))"
   ]
  },
  {
   "cell_type": "markdown",
   "metadata": {},
   "source": [
    "Here the method which is slightly better is lp2 or nan-1 or the method of ffill() again"
   ]
  },
  {
   "cell_type": "code",
   "execution_count": 446,
   "metadata": {},
   "outputs": [],
   "source": [
    "df['Loyalty_program'].ffill(inplace=True)"
   ]
  },
  {
   "cell_type": "code",
   "execution_count": 447,
   "metadata": {},
   "outputs": [
    {
     "data": {
      "text/plain": [
       "Id                     0\n",
       "State                  0\n",
       "Age                    0\n",
       "Occupation         42676\n",
       "Income_group           0\n",
       "Customer_since         0\n",
       "Loyalty_program        0\n",
       "Past_purchase          0\n",
       "Purchase               0\n",
       "dtype: int64"
      ]
     },
     "execution_count": 447,
     "metadata": {},
     "output_type": "execute_result"
    }
   ],
   "source": [
    "df.isnull().sum()"
   ]
  },
  {
   "cell_type": "markdown",
   "metadata": {},
   "source": [
    "Now, that we have treated all the null values in all columns except for the **Occupation**, let us treat these null values by using Super vised Machine Learning"
   ]
  },
  {
   "cell_type": "markdown",
   "metadata": {},
   "source": [
    "### Let us use \"Occupation\" column as Y while all the remaining columns as X. The train dataset consists of all non null values of Y while the test dataset consists of all null values of Y "
   ]
  },
  {
   "cell_type": "markdown",
   "metadata": {},
   "source": [
    "Let us rename the occupation column and assign numbers accordingly.\n",
    "\n",
    "Self employed : 0\n",
    "Salaried      : 1\n",
    "Business      : 2"
   ]
  },
  {
   "cell_type": "markdown",
   "metadata": {},
   "source": [
    "Let us create the encodings for other categorical variables as well. I won't be encoding the **State** column as using encoding on it might introduce the **Curse of Dimensionality**"
   ]
  },
  {
   "cell_type": "code",
   "execution_count": 449,
   "metadata": {},
   "outputs": [
    {
     "data": {
      "text/html": [
       "<div>\n",
       "<style scoped>\n",
       "    .dataframe tbody tr th:only-of-type {\n",
       "        vertical-align: middle;\n",
       "    }\n",
       "\n",
       "    .dataframe tbody tr th {\n",
       "        vertical-align: top;\n",
       "    }\n",
       "\n",
       "    .dataframe thead th {\n",
       "        text-align: right;\n",
       "    }\n",
       "</style>\n",
       "<table border=\"1\" class=\"dataframe\">\n",
       "  <thead>\n",
       "    <tr style=\"text-align: right;\">\n",
       "      <th></th>\n",
       "      <th>Id</th>\n",
       "      <th>State</th>\n",
       "      <th>Age</th>\n",
       "      <th>Occupation</th>\n",
       "      <th>Income_group</th>\n",
       "      <th>Customer_since</th>\n",
       "      <th>Loyalty_program</th>\n",
       "      <th>Past_purchase</th>\n",
       "      <th>Purchase</th>\n",
       "      <th>High</th>\n",
       "      <th>Low</th>\n",
       "      <th>Medium</th>\n",
       "    </tr>\n",
       "  </thead>\n",
       "  <tbody>\n",
       "    <tr>\n",
       "      <th>0</th>\n",
       "      <td>1</td>\n",
       "      <td>Uttar Pradesh</td>\n",
       "      <td>28</td>\n",
       "      <td>NaN</td>\n",
       "      <td>Low</td>\n",
       "      <td>2018</td>\n",
       "      <td>No</td>\n",
       "      <td>4937</td>\n",
       "      <td>No</td>\n",
       "      <td>0</td>\n",
       "      <td>1</td>\n",
       "      <td>0</td>\n",
       "    </tr>\n",
       "    <tr>\n",
       "      <th>1</th>\n",
       "      <td>2</td>\n",
       "      <td>Madhya Pradesh</td>\n",
       "      <td>27</td>\n",
       "      <td>Salaried</td>\n",
       "      <td>Low</td>\n",
       "      <td>2018</td>\n",
       "      <td>No</td>\n",
       "      <td>10834</td>\n",
       "      <td>No</td>\n",
       "      <td>0</td>\n",
       "      <td>1</td>\n",
       "      <td>0</td>\n",
       "    </tr>\n",
       "    <tr>\n",
       "      <th>2</th>\n",
       "      <td>3</td>\n",
       "      <td>West Bengal</td>\n",
       "      <td>62</td>\n",
       "      <td>NaN</td>\n",
       "      <td>High</td>\n",
       "      <td>2013</td>\n",
       "      <td>No</td>\n",
       "      <td>8610</td>\n",
       "      <td>Yes</td>\n",
       "      <td>1</td>\n",
       "      <td>0</td>\n",
       "      <td>0</td>\n",
       "    </tr>\n",
       "    <tr>\n",
       "      <th>3</th>\n",
       "      <td>4</td>\n",
       "      <td>Tamil Nadu</td>\n",
       "      <td>27</td>\n",
       "      <td>Salaried</td>\n",
       "      <td>Low</td>\n",
       "      <td>2018</td>\n",
       "      <td>No</td>\n",
       "      <td>14374</td>\n",
       "      <td>Yes</td>\n",
       "      <td>0</td>\n",
       "      <td>1</td>\n",
       "      <td>0</td>\n",
       "    </tr>\n",
       "    <tr>\n",
       "      <th>4</th>\n",
       "      <td>5</td>\n",
       "      <td>Uttar Pradesh</td>\n",
       "      <td>40</td>\n",
       "      <td>Self employed</td>\n",
       "      <td>High</td>\n",
       "      <td>2015</td>\n",
       "      <td>No</td>\n",
       "      <td>13158</td>\n",
       "      <td>No</td>\n",
       "      <td>1</td>\n",
       "      <td>0</td>\n",
       "      <td>0</td>\n",
       "    </tr>\n",
       "    <tr>\n",
       "      <th>...</th>\n",
       "      <td>...</td>\n",
       "      <td>...</td>\n",
       "      <td>...</td>\n",
       "      <td>...</td>\n",
       "      <td>...</td>\n",
       "      <td>...</td>\n",
       "      <td>...</td>\n",
       "      <td>...</td>\n",
       "      <td>...</td>\n",
       "      <td>...</td>\n",
       "      <td>...</td>\n",
       "      <td>...</td>\n",
       "    </tr>\n",
       "    <tr>\n",
       "      <th>149995</th>\n",
       "      <td>149996</td>\n",
       "      <td>Assam</td>\n",
       "      <td>29</td>\n",
       "      <td>Salaried</td>\n",
       "      <td>Low</td>\n",
       "      <td>2017</td>\n",
       "      <td>No</td>\n",
       "      <td>6241</td>\n",
       "      <td>No</td>\n",
       "      <td>0</td>\n",
       "      <td>1</td>\n",
       "      <td>0</td>\n",
       "    </tr>\n",
       "    <tr>\n",
       "      <th>149996</th>\n",
       "      <td>149997</td>\n",
       "      <td>Andhra Pradesh</td>\n",
       "      <td>53</td>\n",
       "      <td>Self employed</td>\n",
       "      <td>Medium</td>\n",
       "      <td>2010</td>\n",
       "      <td>No</td>\n",
       "      <td>29447</td>\n",
       "      <td>No</td>\n",
       "      <td>0</td>\n",
       "      <td>0</td>\n",
       "      <td>1</td>\n",
       "    </tr>\n",
       "    <tr>\n",
       "      <th>149997</th>\n",
       "      <td>149998</td>\n",
       "      <td>Odisha</td>\n",
       "      <td>31</td>\n",
       "      <td>NaN</td>\n",
       "      <td>Low</td>\n",
       "      <td>2018</td>\n",
       "      <td>No</td>\n",
       "      <td>4856</td>\n",
       "      <td>No</td>\n",
       "      <td>0</td>\n",
       "      <td>1</td>\n",
       "      <td>0</td>\n",
       "    </tr>\n",
       "    <tr>\n",
       "      <th>149998</th>\n",
       "      <td>149999</td>\n",
       "      <td>Andhra Pradesh</td>\n",
       "      <td>54</td>\n",
       "      <td>Self employed</td>\n",
       "      <td>High</td>\n",
       "      <td>2010</td>\n",
       "      <td>Yes</td>\n",
       "      <td>10031</td>\n",
       "      <td>Yes</td>\n",
       "      <td>1</td>\n",
       "      <td>0</td>\n",
       "      <td>0</td>\n",
       "    </tr>\n",
       "    <tr>\n",
       "      <th>149999</th>\n",
       "      <td>150000</td>\n",
       "      <td>Maharashtra</td>\n",
       "      <td>60</td>\n",
       "      <td>NaN</td>\n",
       "      <td>Medium</td>\n",
       "      <td>2013</td>\n",
       "      <td>Yes</td>\n",
       "      <td>7761</td>\n",
       "      <td>Yes</td>\n",
       "      <td>0</td>\n",
       "      <td>0</td>\n",
       "      <td>1</td>\n",
       "    </tr>\n",
       "  </tbody>\n",
       "</table>\n",
       "<p>149899 rows × 12 columns</p>\n",
       "</div>"
      ],
      "text/plain": [
       "            Id           State  Age     Occupation Income_group  \\\n",
       "0            1   Uttar Pradesh   28            NaN          Low   \n",
       "1            2  Madhya Pradesh   27       Salaried          Low   \n",
       "2            3     West Bengal   62            NaN         High   \n",
       "3            4      Tamil Nadu   27       Salaried          Low   \n",
       "4            5   Uttar Pradesh   40  Self employed         High   \n",
       "...        ...             ...  ...            ...          ...   \n",
       "149995  149996           Assam   29       Salaried          Low   \n",
       "149996  149997  Andhra Pradesh   53  Self employed       Medium   \n",
       "149997  149998          Odisha   31            NaN          Low   \n",
       "149998  149999  Andhra Pradesh   54  Self employed         High   \n",
       "149999  150000     Maharashtra   60            NaN       Medium   \n",
       "\n",
       "        Customer_since Loyalty_program  Past_purchase Purchase  High  Low  \\\n",
       "0                 2018              No           4937       No     0    1   \n",
       "1                 2018              No          10834       No     0    1   \n",
       "2                 2013              No           8610      Yes     1    0   \n",
       "3                 2018              No          14374      Yes     0    1   \n",
       "4                 2015              No          13158       No     1    0   \n",
       "...                ...             ...            ...      ...   ...  ...   \n",
       "149995            2017              No           6241       No     0    1   \n",
       "149996            2010              No          29447       No     0    0   \n",
       "149997            2018              No           4856       No     0    1   \n",
       "149998            2010             Yes          10031      Yes     1    0   \n",
       "149999            2013             Yes           7761      Yes     0    0   \n",
       "\n",
       "        Medium  \n",
       "0            0  \n",
       "1            0  \n",
       "2            0  \n",
       "3            0  \n",
       "4            0  \n",
       "...        ...  \n",
       "149995       0  \n",
       "149996       1  \n",
       "149997       0  \n",
       "149998       0  \n",
       "149999       1  \n",
       "\n",
       "[149899 rows x 12 columns]"
      ]
     },
     "execution_count": 449,
     "metadata": {},
     "output_type": "execute_result"
    }
   ],
   "source": [
    "df = df.join(pd.get_dummies(df['Income_group']))\n",
    "df"
   ]
  },
  {
   "cell_type": "code",
   "execution_count": 450,
   "metadata": {},
   "outputs": [],
   "source": [
    "df= df.join(pd.get_dummies(df['Loyalty_program']))"
   ]
  },
  {
   "cell_type": "code",
   "execution_count": 451,
   "metadata": {},
   "outputs": [],
   "source": [
    "df['Purchase'].replace({'No':0,'Yes':1},inplace=True)"
   ]
  },
  {
   "cell_type": "code",
   "execution_count": 452,
   "metadata": {},
   "outputs": [],
   "source": [
    "df['Occupation'].replace({'Self employed':0,'Salaried':1,'Business':2},inplace=True)"
   ]
  },
  {
   "cell_type": "code",
   "execution_count": 462,
   "metadata": {},
   "outputs": [
    {
     "data": {
      "text/html": [
       "<div>\n",
       "<style scoped>\n",
       "    .dataframe tbody tr th:only-of-type {\n",
       "        vertical-align: middle;\n",
       "    }\n",
       "\n",
       "    .dataframe tbody tr th {\n",
       "        vertical-align: top;\n",
       "    }\n",
       "\n",
       "    .dataframe thead th {\n",
       "        text-align: right;\n",
       "    }\n",
       "</style>\n",
       "<table border=\"1\" class=\"dataframe\">\n",
       "  <thead>\n",
       "    <tr style=\"text-align: right;\">\n",
       "      <th></th>\n",
       "      <th>Id</th>\n",
       "      <th>State</th>\n",
       "      <th>Age</th>\n",
       "      <th>Occupation</th>\n",
       "      <th>Income_group</th>\n",
       "      <th>Customer_since</th>\n",
       "      <th>Loyalty_program</th>\n",
       "      <th>Past_purchase</th>\n",
       "      <th>Purchase</th>\n",
       "      <th>High</th>\n",
       "      <th>Low</th>\n",
       "      <th>Medium</th>\n",
       "      <th>No</th>\n",
       "      <th>Yes</th>\n",
       "    </tr>\n",
       "  </thead>\n",
       "  <tbody>\n",
       "    <tr>\n",
       "      <th>0</th>\n",
       "      <td>1</td>\n",
       "      <td>Uttar Pradesh</td>\n",
       "      <td>28</td>\n",
       "      <td>1.0</td>\n",
       "      <td>Low</td>\n",
       "      <td>2018</td>\n",
       "      <td>No</td>\n",
       "      <td>4937</td>\n",
       "      <td>0</td>\n",
       "      <td>0</td>\n",
       "      <td>1</td>\n",
       "      <td>0</td>\n",
       "      <td>1</td>\n",
       "      <td>0</td>\n",
       "    </tr>\n",
       "    <tr>\n",
       "      <th>2</th>\n",
       "      <td>3</td>\n",
       "      <td>West Bengal</td>\n",
       "      <td>62</td>\n",
       "      <td>1.0</td>\n",
       "      <td>High</td>\n",
       "      <td>2013</td>\n",
       "      <td>No</td>\n",
       "      <td>8610</td>\n",
       "      <td>1</td>\n",
       "      <td>1</td>\n",
       "      <td>0</td>\n",
       "      <td>0</td>\n",
       "      <td>1</td>\n",
       "      <td>0</td>\n",
       "    </tr>\n",
       "    <tr>\n",
       "      <th>6</th>\n",
       "      <td>7</td>\n",
       "      <td>Tamil Nadu</td>\n",
       "      <td>68</td>\n",
       "      <td>1.0</td>\n",
       "      <td>High</td>\n",
       "      <td>2010</td>\n",
       "      <td>No</td>\n",
       "      <td>12780</td>\n",
       "      <td>1</td>\n",
       "      <td>1</td>\n",
       "      <td>0</td>\n",
       "      <td>0</td>\n",
       "      <td>1</td>\n",
       "      <td>0</td>\n",
       "    </tr>\n",
       "    <tr>\n",
       "      <th>9</th>\n",
       "      <td>10</td>\n",
       "      <td>Tamil Nadu</td>\n",
       "      <td>67</td>\n",
       "      <td>1.0</td>\n",
       "      <td>High</td>\n",
       "      <td>2010</td>\n",
       "      <td>Yes</td>\n",
       "      <td>25120</td>\n",
       "      <td>1</td>\n",
       "      <td>1</td>\n",
       "      <td>0</td>\n",
       "      <td>0</td>\n",
       "      <td>0</td>\n",
       "      <td>1</td>\n",
       "    </tr>\n",
       "    <tr>\n",
       "      <th>12</th>\n",
       "      <td>13</td>\n",
       "      <td>Kerala</td>\n",
       "      <td>31</td>\n",
       "      <td>1.0</td>\n",
       "      <td>Low</td>\n",
       "      <td>2017</td>\n",
       "      <td>No</td>\n",
       "      <td>3853</td>\n",
       "      <td>0</td>\n",
       "      <td>0</td>\n",
       "      <td>1</td>\n",
       "      <td>0</td>\n",
       "      <td>1</td>\n",
       "      <td>0</td>\n",
       "    </tr>\n",
       "    <tr>\n",
       "      <th>...</th>\n",
       "      <td>...</td>\n",
       "      <td>...</td>\n",
       "      <td>...</td>\n",
       "      <td>...</td>\n",
       "      <td>...</td>\n",
       "      <td>...</td>\n",
       "      <td>...</td>\n",
       "      <td>...</td>\n",
       "      <td>...</td>\n",
       "      <td>...</td>\n",
       "      <td>...</td>\n",
       "      <td>...</td>\n",
       "      <td>...</td>\n",
       "      <td>...</td>\n",
       "    </tr>\n",
       "    <tr>\n",
       "      <th>149992</th>\n",
       "      <td>149993</td>\n",
       "      <td>Maharashtra</td>\n",
       "      <td>43</td>\n",
       "      <td>0.0</td>\n",
       "      <td>Medium</td>\n",
       "      <td>2014</td>\n",
       "      <td>Yes</td>\n",
       "      <td>14001</td>\n",
       "      <td>0</td>\n",
       "      <td>0</td>\n",
       "      <td>0</td>\n",
       "      <td>1</td>\n",
       "      <td>0</td>\n",
       "      <td>1</td>\n",
       "    </tr>\n",
       "    <tr>\n",
       "      <th>149994</th>\n",
       "      <td>149995</td>\n",
       "      <td>Karnataka</td>\n",
       "      <td>44</td>\n",
       "      <td>0.0</td>\n",
       "      <td>High</td>\n",
       "      <td>2013</td>\n",
       "      <td>Yes</td>\n",
       "      <td>7112</td>\n",
       "      <td>0</td>\n",
       "      <td>1</td>\n",
       "      <td>0</td>\n",
       "      <td>0</td>\n",
       "      <td>0</td>\n",
       "      <td>1</td>\n",
       "    </tr>\n",
       "    <tr>\n",
       "      <th>149995</th>\n",
       "      <td>149996</td>\n",
       "      <td>Assam</td>\n",
       "      <td>29</td>\n",
       "      <td>1.0</td>\n",
       "      <td>Low</td>\n",
       "      <td>2017</td>\n",
       "      <td>No</td>\n",
       "      <td>6241</td>\n",
       "      <td>0</td>\n",
       "      <td>0</td>\n",
       "      <td>1</td>\n",
       "      <td>0</td>\n",
       "      <td>1</td>\n",
       "      <td>0</td>\n",
       "    </tr>\n",
       "    <tr>\n",
       "      <th>149996</th>\n",
       "      <td>149997</td>\n",
       "      <td>Andhra Pradesh</td>\n",
       "      <td>53</td>\n",
       "      <td>0.0</td>\n",
       "      <td>Medium</td>\n",
       "      <td>2010</td>\n",
       "      <td>No</td>\n",
       "      <td>29447</td>\n",
       "      <td>0</td>\n",
       "      <td>0</td>\n",
       "      <td>0</td>\n",
       "      <td>1</td>\n",
       "      <td>1</td>\n",
       "      <td>0</td>\n",
       "    </tr>\n",
       "    <tr>\n",
       "      <th>149998</th>\n",
       "      <td>149999</td>\n",
       "      <td>Andhra Pradesh</td>\n",
       "      <td>54</td>\n",
       "      <td>0.0</td>\n",
       "      <td>High</td>\n",
       "      <td>2010</td>\n",
       "      <td>Yes</td>\n",
       "      <td>10031</td>\n",
       "      <td>1</td>\n",
       "      <td>1</td>\n",
       "      <td>0</td>\n",
       "      <td>0</td>\n",
       "      <td>0</td>\n",
       "      <td>1</td>\n",
       "    </tr>\n",
       "  </tbody>\n",
       "</table>\n",
       "<p>149899 rows × 14 columns</p>\n",
       "</div>"
      ],
      "text/plain": [
       "            Id           State  Age  Occupation Income_group  Customer_since  \\\n",
       "0            1   Uttar Pradesh   28         1.0          Low            2018   \n",
       "2            3     West Bengal   62         1.0         High            2013   \n",
       "6            7      Tamil Nadu   68         1.0         High            2010   \n",
       "9           10      Tamil Nadu   67         1.0         High            2010   \n",
       "12          13          Kerala   31         1.0          Low            2017   \n",
       "...        ...             ...  ...         ...          ...             ...   \n",
       "149992  149993     Maharashtra   43         0.0       Medium            2014   \n",
       "149994  149995       Karnataka   44         0.0         High            2013   \n",
       "149995  149996           Assam   29         1.0          Low            2017   \n",
       "149996  149997  Andhra Pradesh   53         0.0       Medium            2010   \n",
       "149998  149999  Andhra Pradesh   54         0.0         High            2010   \n",
       "\n",
       "       Loyalty_program  Past_purchase  Purchase  High  Low  Medium  No  Yes  \n",
       "0                   No           4937         0     0    1       0   1    0  \n",
       "2                   No           8610         1     1    0       0   1    0  \n",
       "6                   No          12780         1     1    0       0   1    0  \n",
       "9                  Yes          25120         1     1    0       0   0    1  \n",
       "12                  No           3853         0     0    1       0   1    0  \n",
       "...                ...            ...       ...   ...  ...     ...  ..  ...  \n",
       "149992             Yes          14001         0     0    0       1   0    1  \n",
       "149994             Yes           7112         0     1    0       0   0    1  \n",
       "149995              No           6241         0     0    1       0   1    0  \n",
       "149996              No          29447         0     0    0       1   1    0  \n",
       "149998             Yes          10031         1     1    0       0   0    1  \n",
       "\n",
       "[149899 rows x 14 columns]"
      ]
     },
     "execution_count": 462,
     "metadata": {},
     "output_type": "execute_result"
    }
   ],
   "source": [
    "nndf = df.loc[df['Occupation'].isnull()!=True]\n",
    "ndf = df.loc[df['Occupation'].isnull()!=False]\n",
    "nndf"
   ]
  },
  {
   "cell_type": "code",
   "execution_count": 454,
   "metadata": {},
   "outputs": [],
   "source": [
    "X_train, y_train = nndf.drop(['Occupation','State','Loyalty_program','Income_group'],axis=1),nndf['Occupation']\n",
    "X_test = ndf.drop(['Occupation','State','Loyalty_program','Income_group'],axis=1)\n",
    "y_test = ndf['Occupation']"
   ]
  },
  {
   "cell_type": "code",
   "execution_count": 455,
   "metadata": {},
   "outputs": [],
   "source": [
    "from sklearn.ensemble import RandomForestClassifier\n",
    "rfc = RandomForestClassifier()\n"
   ]
  },
  {
   "cell_type": "code",
   "execution_count": 456,
   "metadata": {},
   "outputs": [
    {
     "data": {
      "text/html": [
       "<div>\n",
       "<style scoped>\n",
       "    .dataframe tbody tr th:only-of-type {\n",
       "        vertical-align: middle;\n",
       "    }\n",
       "\n",
       "    .dataframe tbody tr th {\n",
       "        vertical-align: top;\n",
       "    }\n",
       "\n",
       "    .dataframe thead th {\n",
       "        text-align: right;\n",
       "    }\n",
       "</style>\n",
       "<table border=\"1\" class=\"dataframe\">\n",
       "  <thead>\n",
       "    <tr style=\"text-align: right;\">\n",
       "      <th></th>\n",
       "      <th>Id</th>\n",
       "      <th>Age</th>\n",
       "      <th>Customer_since</th>\n",
       "      <th>Past_purchase</th>\n",
       "      <th>Purchase</th>\n",
       "      <th>High</th>\n",
       "      <th>Low</th>\n",
       "      <th>Medium</th>\n",
       "      <th>No</th>\n",
       "      <th>Yes</th>\n",
       "    </tr>\n",
       "  </thead>\n",
       "  <tbody>\n",
       "    <tr>\n",
       "      <th>1</th>\n",
       "      <td>2</td>\n",
       "      <td>27</td>\n",
       "      <td>2018</td>\n",
       "      <td>10834</td>\n",
       "      <td>0</td>\n",
       "      <td>0</td>\n",
       "      <td>1</td>\n",
       "      <td>0</td>\n",
       "      <td>1</td>\n",
       "      <td>0</td>\n",
       "    </tr>\n",
       "    <tr>\n",
       "      <th>3</th>\n",
       "      <td>4</td>\n",
       "      <td>27</td>\n",
       "      <td>2018</td>\n",
       "      <td>14374</td>\n",
       "      <td>1</td>\n",
       "      <td>0</td>\n",
       "      <td>1</td>\n",
       "      <td>0</td>\n",
       "      <td>1</td>\n",
       "      <td>0</td>\n",
       "    </tr>\n",
       "    <tr>\n",
       "      <th>4</th>\n",
       "      <td>5</td>\n",
       "      <td>40</td>\n",
       "      <td>2015</td>\n",
       "      <td>13158</td>\n",
       "      <td>0</td>\n",
       "      <td>1</td>\n",
       "      <td>0</td>\n",
       "      <td>0</td>\n",
       "      <td>1</td>\n",
       "      <td>0</td>\n",
       "    </tr>\n",
       "    <tr>\n",
       "      <th>5</th>\n",
       "      <td>6</td>\n",
       "      <td>28</td>\n",
       "      <td>2018</td>\n",
       "      <td>5159</td>\n",
       "      <td>0</td>\n",
       "      <td>0</td>\n",
       "      <td>1</td>\n",
       "      <td>0</td>\n",
       "      <td>1</td>\n",
       "      <td>0</td>\n",
       "    </tr>\n",
       "    <tr>\n",
       "      <th>7</th>\n",
       "      <td>8</td>\n",
       "      <td>45</td>\n",
       "      <td>2018</td>\n",
       "      <td>5018</td>\n",
       "      <td>0</td>\n",
       "      <td>0</td>\n",
       "      <td>0</td>\n",
       "      <td>1</td>\n",
       "      <td>1</td>\n",
       "      <td>0</td>\n",
       "    </tr>\n",
       "    <tr>\n",
       "      <th>...</th>\n",
       "      <td>...</td>\n",
       "      <td>...</td>\n",
       "      <td>...</td>\n",
       "      <td>...</td>\n",
       "      <td>...</td>\n",
       "      <td>...</td>\n",
       "      <td>...</td>\n",
       "      <td>...</td>\n",
       "      <td>...</td>\n",
       "      <td>...</td>\n",
       "    </tr>\n",
       "    <tr>\n",
       "      <th>149992</th>\n",
       "      <td>149993</td>\n",
       "      <td>43</td>\n",
       "      <td>2014</td>\n",
       "      <td>14001</td>\n",
       "      <td>0</td>\n",
       "      <td>0</td>\n",
       "      <td>0</td>\n",
       "      <td>1</td>\n",
       "      <td>0</td>\n",
       "      <td>1</td>\n",
       "    </tr>\n",
       "    <tr>\n",
       "      <th>149994</th>\n",
       "      <td>149995</td>\n",
       "      <td>44</td>\n",
       "      <td>2013</td>\n",
       "      <td>7112</td>\n",
       "      <td>0</td>\n",
       "      <td>1</td>\n",
       "      <td>0</td>\n",
       "      <td>0</td>\n",
       "      <td>0</td>\n",
       "      <td>1</td>\n",
       "    </tr>\n",
       "    <tr>\n",
       "      <th>149995</th>\n",
       "      <td>149996</td>\n",
       "      <td>29</td>\n",
       "      <td>2017</td>\n",
       "      <td>6241</td>\n",
       "      <td>0</td>\n",
       "      <td>0</td>\n",
       "      <td>1</td>\n",
       "      <td>0</td>\n",
       "      <td>1</td>\n",
       "      <td>0</td>\n",
       "    </tr>\n",
       "    <tr>\n",
       "      <th>149996</th>\n",
       "      <td>149997</td>\n",
       "      <td>53</td>\n",
       "      <td>2010</td>\n",
       "      <td>29447</td>\n",
       "      <td>0</td>\n",
       "      <td>0</td>\n",
       "      <td>0</td>\n",
       "      <td>1</td>\n",
       "      <td>1</td>\n",
       "      <td>0</td>\n",
       "    </tr>\n",
       "    <tr>\n",
       "      <th>149998</th>\n",
       "      <td>149999</td>\n",
       "      <td>54</td>\n",
       "      <td>2010</td>\n",
       "      <td>10031</td>\n",
       "      <td>1</td>\n",
       "      <td>1</td>\n",
       "      <td>0</td>\n",
       "      <td>0</td>\n",
       "      <td>0</td>\n",
       "      <td>1</td>\n",
       "    </tr>\n",
       "  </tbody>\n",
       "</table>\n",
       "<p>107223 rows × 10 columns</p>\n",
       "</div>"
      ],
      "text/plain": [
       "            Id  Age  Customer_since  Past_purchase  Purchase  High  Low  \\\n",
       "1            2   27            2018          10834         0     0    1   \n",
       "3            4   27            2018          14374         1     0    1   \n",
       "4            5   40            2015          13158         0     1    0   \n",
       "5            6   28            2018           5159         0     0    1   \n",
       "7            8   45            2018           5018         0     0    0   \n",
       "...        ...  ...             ...            ...       ...   ...  ...   \n",
       "149992  149993   43            2014          14001         0     0    0   \n",
       "149994  149995   44            2013           7112         0     1    0   \n",
       "149995  149996   29            2017           6241         0     0    1   \n",
       "149996  149997   53            2010          29447         0     0    0   \n",
       "149998  149999   54            2010          10031         1     1    0   \n",
       "\n",
       "        Medium  No  Yes  \n",
       "1            0   1    0  \n",
       "3            0   1    0  \n",
       "4            0   1    0  \n",
       "5            0   1    0  \n",
       "7            1   1    0  \n",
       "...        ...  ..  ...  \n",
       "149992       1   0    1  \n",
       "149994       0   0    1  \n",
       "149995       0   1    0  \n",
       "149996       1   1    0  \n",
       "149998       0   0    1  \n",
       "\n",
       "[107223 rows x 10 columns]"
      ]
     },
     "execution_count": 456,
     "metadata": {},
     "output_type": "execute_result"
    }
   ],
   "source": [
    "X_train"
   ]
  },
  {
   "cell_type": "code",
   "execution_count": 457,
   "metadata": {},
   "outputs": [
    {
     "data": {
      "text/plain": [
       "RandomForestClassifier()"
      ]
     },
     "execution_count": 457,
     "metadata": {},
     "output_type": "execute_result"
    }
   ],
   "source": [
    "rfc.fit(X_train,y_train)"
   ]
  },
  {
   "cell_type": "code",
   "execution_count": 458,
   "metadata": {},
   "outputs": [
    {
     "data": {
      "text/plain": [
       "array([1., 1., 1., ..., 0., 1., 0.])"
      ]
     },
     "execution_count": 458,
     "metadata": {},
     "output_type": "execute_result"
    }
   ],
   "source": [
    "y_pred = rfc.predict(X_test)\n",
    "y_pred"
   ]
  },
  {
   "cell_type": "code",
   "execution_count": 459,
   "metadata": {},
   "outputs": [
    {
     "data": {
      "text/plain": [
       "1.0    0.511904\n",
       "0.0    0.487511\n",
       "2.0    0.000586\n",
       "dtype: float64"
      ]
     },
     "execution_count": 459,
     "metadata": {},
     "output_type": "execute_result"
    }
   ],
   "source": [
    "pd.Series(y_pred).value_counts()/len(y_pred)"
   ]
  },
  {
   "cell_type": "code",
   "execution_count": 460,
   "metadata": {},
   "outputs": [
    {
     "name": "stderr",
     "output_type": "stream",
     "text": [
      "C:\\Users\\Rahul M\\anaconda3\\lib\\site-packages\\ipykernel_launcher.py:2: SettingWithCopyWarning: \n",
      "A value is trying to be set on a copy of a slice from a DataFrame.\n",
      "Try using .loc[row_indexer,col_indexer] = value instead\n",
      "\n",
      "See the caveats in the documentation: https://pandas.pydata.org/pandas-docs/stable/user_guide/indexing.html#returning-a-view-versus-a-copy\n",
      "  \n"
     ]
    }
   ],
   "source": [
    "a = df.loc[df['Occupation'].isnull()]\n",
    "a['Occupation']=y_pred"
   ]
  },
  {
   "cell_type": "code",
   "execution_count": 463,
   "metadata": {},
   "outputs": [
    {
     "data": {
      "text/html": [
       "<div>\n",
       "<style scoped>\n",
       "    .dataframe tbody tr th:only-of-type {\n",
       "        vertical-align: middle;\n",
       "    }\n",
       "\n",
       "    .dataframe tbody tr th {\n",
       "        vertical-align: top;\n",
       "    }\n",
       "\n",
       "    .dataframe thead th {\n",
       "        text-align: right;\n",
       "    }\n",
       "</style>\n",
       "<table border=\"1\" class=\"dataframe\">\n",
       "  <thead>\n",
       "    <tr style=\"text-align: right;\">\n",
       "      <th></th>\n",
       "      <th>Id</th>\n",
       "      <th>State</th>\n",
       "      <th>Age</th>\n",
       "      <th>Occupation</th>\n",
       "      <th>Income_group</th>\n",
       "      <th>Customer_since</th>\n",
       "      <th>Loyalty_program</th>\n",
       "      <th>Past_purchase</th>\n",
       "      <th>Purchase</th>\n",
       "      <th>High</th>\n",
       "      <th>Low</th>\n",
       "      <th>Medium</th>\n",
       "      <th>No</th>\n",
       "      <th>Yes</th>\n",
       "    </tr>\n",
       "  </thead>\n",
       "  <tbody>\n",
       "    <tr>\n",
       "      <th>0</th>\n",
       "      <td>1</td>\n",
       "      <td>Uttar Pradesh</td>\n",
       "      <td>28</td>\n",
       "      <td>1.0</td>\n",
       "      <td>Low</td>\n",
       "      <td>2018</td>\n",
       "      <td>No</td>\n",
       "      <td>4937</td>\n",
       "      <td>0</td>\n",
       "      <td>0</td>\n",
       "      <td>1</td>\n",
       "      <td>0</td>\n",
       "      <td>1</td>\n",
       "      <td>0</td>\n",
       "    </tr>\n",
       "    <tr>\n",
       "      <th>2</th>\n",
       "      <td>3</td>\n",
       "      <td>West Bengal</td>\n",
       "      <td>62</td>\n",
       "      <td>1.0</td>\n",
       "      <td>High</td>\n",
       "      <td>2013</td>\n",
       "      <td>No</td>\n",
       "      <td>8610</td>\n",
       "      <td>1</td>\n",
       "      <td>1</td>\n",
       "      <td>0</td>\n",
       "      <td>0</td>\n",
       "      <td>1</td>\n",
       "      <td>0</td>\n",
       "    </tr>\n",
       "    <tr>\n",
       "      <th>6</th>\n",
       "      <td>7</td>\n",
       "      <td>Tamil Nadu</td>\n",
       "      <td>68</td>\n",
       "      <td>1.0</td>\n",
       "      <td>High</td>\n",
       "      <td>2010</td>\n",
       "      <td>No</td>\n",
       "      <td>12780</td>\n",
       "      <td>1</td>\n",
       "      <td>1</td>\n",
       "      <td>0</td>\n",
       "      <td>0</td>\n",
       "      <td>1</td>\n",
       "      <td>0</td>\n",
       "    </tr>\n",
       "    <tr>\n",
       "      <th>9</th>\n",
       "      <td>10</td>\n",
       "      <td>Tamil Nadu</td>\n",
       "      <td>67</td>\n",
       "      <td>1.0</td>\n",
       "      <td>High</td>\n",
       "      <td>2010</td>\n",
       "      <td>Yes</td>\n",
       "      <td>25120</td>\n",
       "      <td>1</td>\n",
       "      <td>1</td>\n",
       "      <td>0</td>\n",
       "      <td>0</td>\n",
       "      <td>0</td>\n",
       "      <td>1</td>\n",
       "    </tr>\n",
       "    <tr>\n",
       "      <th>12</th>\n",
       "      <td>13</td>\n",
       "      <td>Kerala</td>\n",
       "      <td>31</td>\n",
       "      <td>1.0</td>\n",
       "      <td>Low</td>\n",
       "      <td>2017</td>\n",
       "      <td>No</td>\n",
       "      <td>3853</td>\n",
       "      <td>0</td>\n",
       "      <td>0</td>\n",
       "      <td>1</td>\n",
       "      <td>0</td>\n",
       "      <td>1</td>\n",
       "      <td>0</td>\n",
       "    </tr>\n",
       "    <tr>\n",
       "      <th>...</th>\n",
       "      <td>...</td>\n",
       "      <td>...</td>\n",
       "      <td>...</td>\n",
       "      <td>...</td>\n",
       "      <td>...</td>\n",
       "      <td>...</td>\n",
       "      <td>...</td>\n",
       "      <td>...</td>\n",
       "      <td>...</td>\n",
       "      <td>...</td>\n",
       "      <td>...</td>\n",
       "      <td>...</td>\n",
       "      <td>...</td>\n",
       "      <td>...</td>\n",
       "    </tr>\n",
       "    <tr>\n",
       "      <th>149992</th>\n",
       "      <td>149993</td>\n",
       "      <td>Maharashtra</td>\n",
       "      <td>43</td>\n",
       "      <td>0.0</td>\n",
       "      <td>Medium</td>\n",
       "      <td>2014</td>\n",
       "      <td>Yes</td>\n",
       "      <td>14001</td>\n",
       "      <td>0</td>\n",
       "      <td>0</td>\n",
       "      <td>0</td>\n",
       "      <td>1</td>\n",
       "      <td>0</td>\n",
       "      <td>1</td>\n",
       "    </tr>\n",
       "    <tr>\n",
       "      <th>149994</th>\n",
       "      <td>149995</td>\n",
       "      <td>Karnataka</td>\n",
       "      <td>44</td>\n",
       "      <td>0.0</td>\n",
       "      <td>High</td>\n",
       "      <td>2013</td>\n",
       "      <td>Yes</td>\n",
       "      <td>7112</td>\n",
       "      <td>0</td>\n",
       "      <td>1</td>\n",
       "      <td>0</td>\n",
       "      <td>0</td>\n",
       "      <td>0</td>\n",
       "      <td>1</td>\n",
       "    </tr>\n",
       "    <tr>\n",
       "      <th>149995</th>\n",
       "      <td>149996</td>\n",
       "      <td>Assam</td>\n",
       "      <td>29</td>\n",
       "      <td>1.0</td>\n",
       "      <td>Low</td>\n",
       "      <td>2017</td>\n",
       "      <td>No</td>\n",
       "      <td>6241</td>\n",
       "      <td>0</td>\n",
       "      <td>0</td>\n",
       "      <td>1</td>\n",
       "      <td>0</td>\n",
       "      <td>1</td>\n",
       "      <td>0</td>\n",
       "    </tr>\n",
       "    <tr>\n",
       "      <th>149996</th>\n",
       "      <td>149997</td>\n",
       "      <td>Andhra Pradesh</td>\n",
       "      <td>53</td>\n",
       "      <td>0.0</td>\n",
       "      <td>Medium</td>\n",
       "      <td>2010</td>\n",
       "      <td>No</td>\n",
       "      <td>29447</td>\n",
       "      <td>0</td>\n",
       "      <td>0</td>\n",
       "      <td>0</td>\n",
       "      <td>1</td>\n",
       "      <td>1</td>\n",
       "      <td>0</td>\n",
       "    </tr>\n",
       "    <tr>\n",
       "      <th>149998</th>\n",
       "      <td>149999</td>\n",
       "      <td>Andhra Pradesh</td>\n",
       "      <td>54</td>\n",
       "      <td>0.0</td>\n",
       "      <td>High</td>\n",
       "      <td>2010</td>\n",
       "      <td>Yes</td>\n",
       "      <td>10031</td>\n",
       "      <td>1</td>\n",
       "      <td>1</td>\n",
       "      <td>0</td>\n",
       "      <td>0</td>\n",
       "      <td>0</td>\n",
       "      <td>1</td>\n",
       "    </tr>\n",
       "  </tbody>\n",
       "</table>\n",
       "<p>192575 rows × 14 columns</p>\n",
       "</div>"
      ],
      "text/plain": [
       "            Id           State  Age  Occupation Income_group  Customer_since  \\\n",
       "0            1   Uttar Pradesh   28         1.0          Low            2018   \n",
       "2            3     West Bengal   62         1.0         High            2013   \n",
       "6            7      Tamil Nadu   68         1.0         High            2010   \n",
       "9           10      Tamil Nadu   67         1.0         High            2010   \n",
       "12          13          Kerala   31         1.0          Low            2017   \n",
       "...        ...             ...  ...         ...          ...             ...   \n",
       "149992  149993     Maharashtra   43         0.0       Medium            2014   \n",
       "149994  149995       Karnataka   44         0.0         High            2013   \n",
       "149995  149996           Assam   29         1.0          Low            2017   \n",
       "149996  149997  Andhra Pradesh   53         0.0       Medium            2010   \n",
       "149998  149999  Andhra Pradesh   54         0.0         High            2010   \n",
       "\n",
       "       Loyalty_program  Past_purchase  Purchase  High  Low  Medium  No  Yes  \n",
       "0                   No           4937         0     0    1       0   1    0  \n",
       "2                   No           8610         1     1    0       0   1    0  \n",
       "6                   No          12780         1     1    0       0   1    0  \n",
       "9                  Yes          25120         1     1    0       0   0    1  \n",
       "12                  No           3853         0     0    1       0   1    0  \n",
       "...                ...            ...       ...   ...  ...     ...  ..  ...  \n",
       "149992             Yes          14001         0     0    0       1   0    1  \n",
       "149994             Yes           7112         0     1    0       0   0    1  \n",
       "149995              No           6241         0     0    1       0   1    0  \n",
       "149996              No          29447         0     0    0       1   1    0  \n",
       "149998             Yes          10031         1     1    0       0   0    1  \n",
       "\n",
       "[192575 rows x 14 columns]"
      ]
     },
     "execution_count": 463,
     "metadata": {},
     "output_type": "execute_result"
    }
   ],
   "source": [
    "df = pd.concat([a,nndf])\n",
    "df"
   ]
  },
  {
   "cell_type": "code",
   "execution_count": 464,
   "metadata": {},
   "outputs": [
    {
     "data": {
      "text/html": [
       "<div>\n",
       "<style scoped>\n",
       "    .dataframe tbody tr th:only-of-type {\n",
       "        vertical-align: middle;\n",
       "    }\n",
       "\n",
       "    .dataframe tbody tr th {\n",
       "        vertical-align: top;\n",
       "    }\n",
       "\n",
       "    .dataframe thead th {\n",
       "        text-align: right;\n",
       "    }\n",
       "</style>\n",
       "<table border=\"1\" class=\"dataframe\">\n",
       "  <thead>\n",
       "    <tr style=\"text-align: right;\">\n",
       "      <th></th>\n",
       "      <th>Id</th>\n",
       "      <th>State</th>\n",
       "      <th>Age</th>\n",
       "      <th>Occupation</th>\n",
       "      <th>Income_group</th>\n",
       "      <th>Customer_since</th>\n",
       "      <th>Loyalty_program</th>\n",
       "      <th>Past_purchase</th>\n",
       "      <th>Purchase</th>\n",
       "      <th>High</th>\n",
       "      <th>Low</th>\n",
       "      <th>Medium</th>\n",
       "      <th>No</th>\n",
       "      <th>Yes</th>\n",
       "    </tr>\n",
       "  </thead>\n",
       "  <tbody>\n",
       "    <tr>\n",
       "      <th>0</th>\n",
       "      <td>1</td>\n",
       "      <td>Uttar Pradesh</td>\n",
       "      <td>28</td>\n",
       "      <td>1.0</td>\n",
       "      <td>Low</td>\n",
       "      <td>2018</td>\n",
       "      <td>No</td>\n",
       "      <td>4937</td>\n",
       "      <td>0</td>\n",
       "      <td>0</td>\n",
       "      <td>1</td>\n",
       "      <td>0</td>\n",
       "      <td>1</td>\n",
       "      <td>0</td>\n",
       "    </tr>\n",
       "    <tr>\n",
       "      <th>2</th>\n",
       "      <td>3</td>\n",
       "      <td>West Bengal</td>\n",
       "      <td>62</td>\n",
       "      <td>1.0</td>\n",
       "      <td>High</td>\n",
       "      <td>2013</td>\n",
       "      <td>No</td>\n",
       "      <td>8610</td>\n",
       "      <td>1</td>\n",
       "      <td>1</td>\n",
       "      <td>0</td>\n",
       "      <td>0</td>\n",
       "      <td>1</td>\n",
       "      <td>0</td>\n",
       "    </tr>\n",
       "    <tr>\n",
       "      <th>6</th>\n",
       "      <td>7</td>\n",
       "      <td>Tamil Nadu</td>\n",
       "      <td>68</td>\n",
       "      <td>1.0</td>\n",
       "      <td>High</td>\n",
       "      <td>2010</td>\n",
       "      <td>No</td>\n",
       "      <td>12780</td>\n",
       "      <td>1</td>\n",
       "      <td>1</td>\n",
       "      <td>0</td>\n",
       "      <td>0</td>\n",
       "      <td>1</td>\n",
       "      <td>0</td>\n",
       "    </tr>\n",
       "    <tr>\n",
       "      <th>9</th>\n",
       "      <td>10</td>\n",
       "      <td>Tamil Nadu</td>\n",
       "      <td>67</td>\n",
       "      <td>1.0</td>\n",
       "      <td>High</td>\n",
       "      <td>2010</td>\n",
       "      <td>Yes</td>\n",
       "      <td>25120</td>\n",
       "      <td>1</td>\n",
       "      <td>1</td>\n",
       "      <td>0</td>\n",
       "      <td>0</td>\n",
       "      <td>0</td>\n",
       "      <td>1</td>\n",
       "    </tr>\n",
       "    <tr>\n",
       "      <th>12</th>\n",
       "      <td>13</td>\n",
       "      <td>Kerala</td>\n",
       "      <td>31</td>\n",
       "      <td>1.0</td>\n",
       "      <td>Low</td>\n",
       "      <td>2017</td>\n",
       "      <td>No</td>\n",
       "      <td>3853</td>\n",
       "      <td>0</td>\n",
       "      <td>0</td>\n",
       "      <td>1</td>\n",
       "      <td>0</td>\n",
       "      <td>1</td>\n",
       "      <td>0</td>\n",
       "    </tr>\n",
       "    <tr>\n",
       "      <th>17</th>\n",
       "      <td>18</td>\n",
       "      <td>Tamil Nadu</td>\n",
       "      <td>32</td>\n",
       "      <td>0.0</td>\n",
       "      <td>Medium</td>\n",
       "      <td>2016</td>\n",
       "      <td>No</td>\n",
       "      <td>6461</td>\n",
       "      <td>0</td>\n",
       "      <td>0</td>\n",
       "      <td>0</td>\n",
       "      <td>1</td>\n",
       "      <td>1</td>\n",
       "      <td>0</td>\n",
       "    </tr>\n",
       "    <tr>\n",
       "      <th>18</th>\n",
       "      <td>19</td>\n",
       "      <td>Tamil Nadu</td>\n",
       "      <td>63</td>\n",
       "      <td>1.0</td>\n",
       "      <td>Low</td>\n",
       "      <td>2013</td>\n",
       "      <td>No</td>\n",
       "      <td>12900</td>\n",
       "      <td>1</td>\n",
       "      <td>0</td>\n",
       "      <td>1</td>\n",
       "      <td>0</td>\n",
       "      <td>1</td>\n",
       "      <td>0</td>\n",
       "    </tr>\n",
       "    <tr>\n",
       "      <th>19</th>\n",
       "      <td>20</td>\n",
       "      <td>Chandigarh</td>\n",
       "      <td>52</td>\n",
       "      <td>0.0</td>\n",
       "      <td>Medium</td>\n",
       "      <td>2017</td>\n",
       "      <td>No</td>\n",
       "      <td>2801</td>\n",
       "      <td>0</td>\n",
       "      <td>0</td>\n",
       "      <td>0</td>\n",
       "      <td>1</td>\n",
       "      <td>1</td>\n",
       "      <td>0</td>\n",
       "    </tr>\n",
       "    <tr>\n",
       "      <th>20</th>\n",
       "      <td>21</td>\n",
       "      <td>Nagaland</td>\n",
       "      <td>73</td>\n",
       "      <td>0.0</td>\n",
       "      <td>High</td>\n",
       "      <td>2016</td>\n",
       "      <td>Yes</td>\n",
       "      <td>6960</td>\n",
       "      <td>0</td>\n",
       "      <td>1</td>\n",
       "      <td>0</td>\n",
       "      <td>0</td>\n",
       "      <td>0</td>\n",
       "      <td>1</td>\n",
       "    </tr>\n",
       "    <tr>\n",
       "      <th>21</th>\n",
       "      <td>22</td>\n",
       "      <td>Andaman and Nicobar Islands</td>\n",
       "      <td>68</td>\n",
       "      <td>0.0</td>\n",
       "      <td>Medium</td>\n",
       "      <td>2018</td>\n",
       "      <td>Yes</td>\n",
       "      <td>6852</td>\n",
       "      <td>0</td>\n",
       "      <td>0</td>\n",
       "      <td>0</td>\n",
       "      <td>1</td>\n",
       "      <td>0</td>\n",
       "      <td>1</td>\n",
       "    </tr>\n",
       "    <tr>\n",
       "      <th>24</th>\n",
       "      <td>25</td>\n",
       "      <td>Tamil Nadu</td>\n",
       "      <td>56</td>\n",
       "      <td>0.0</td>\n",
       "      <td>High</td>\n",
       "      <td>2010</td>\n",
       "      <td>Yes</td>\n",
       "      <td>9029</td>\n",
       "      <td>1</td>\n",
       "      <td>1</td>\n",
       "      <td>0</td>\n",
       "      <td>0</td>\n",
       "      <td>0</td>\n",
       "      <td>1</td>\n",
       "    </tr>\n",
       "    <tr>\n",
       "      <th>26</th>\n",
       "      <td>27</td>\n",
       "      <td>Tripura</td>\n",
       "      <td>79</td>\n",
       "      <td>1.0</td>\n",
       "      <td>High</td>\n",
       "      <td>2014</td>\n",
       "      <td>No</td>\n",
       "      <td>7197</td>\n",
       "      <td>0</td>\n",
       "      <td>1</td>\n",
       "      <td>0</td>\n",
       "      <td>0</td>\n",
       "      <td>1</td>\n",
       "      <td>0</td>\n",
       "    </tr>\n",
       "    <tr>\n",
       "      <th>34</th>\n",
       "      <td>35</td>\n",
       "      <td>Maharashtra</td>\n",
       "      <td>84</td>\n",
       "      <td>0.0</td>\n",
       "      <td>Low</td>\n",
       "      <td>2015</td>\n",
       "      <td>No</td>\n",
       "      <td>22723</td>\n",
       "      <td>0</td>\n",
       "      <td>0</td>\n",
       "      <td>1</td>\n",
       "      <td>0</td>\n",
       "      <td>1</td>\n",
       "      <td>0</td>\n",
       "    </tr>\n",
       "    <tr>\n",
       "      <th>36</th>\n",
       "      <td>37</td>\n",
       "      <td>Gujarat</td>\n",
       "      <td>53</td>\n",
       "      <td>0.0</td>\n",
       "      <td>High</td>\n",
       "      <td>2012</td>\n",
       "      <td>Yes</td>\n",
       "      <td>7285</td>\n",
       "      <td>0</td>\n",
       "      <td>1</td>\n",
       "      <td>0</td>\n",
       "      <td>0</td>\n",
       "      <td>0</td>\n",
       "      <td>1</td>\n",
       "    </tr>\n",
       "    <tr>\n",
       "      <th>44</th>\n",
       "      <td>45</td>\n",
       "      <td>Uttar Pradesh</td>\n",
       "      <td>53</td>\n",
       "      <td>0.0</td>\n",
       "      <td>High</td>\n",
       "      <td>2012</td>\n",
       "      <td>No</td>\n",
       "      <td>32397</td>\n",
       "      <td>0</td>\n",
       "      <td>1</td>\n",
       "      <td>0</td>\n",
       "      <td>0</td>\n",
       "      <td>1</td>\n",
       "      <td>0</td>\n",
       "    </tr>\n",
       "    <tr>\n",
       "      <th>47</th>\n",
       "      <td>48</td>\n",
       "      <td>Telangana</td>\n",
       "      <td>33</td>\n",
       "      <td>1.0</td>\n",
       "      <td>High</td>\n",
       "      <td>2018</td>\n",
       "      <td>No</td>\n",
       "      <td>11691</td>\n",
       "      <td>0</td>\n",
       "      <td>1</td>\n",
       "      <td>0</td>\n",
       "      <td>0</td>\n",
       "      <td>1</td>\n",
       "      <td>0</td>\n",
       "    </tr>\n",
       "    <tr>\n",
       "      <th>51</th>\n",
       "      <td>52</td>\n",
       "      <td>Sikkim</td>\n",
       "      <td>29</td>\n",
       "      <td>1.0</td>\n",
       "      <td>Low</td>\n",
       "      <td>2018</td>\n",
       "      <td>No</td>\n",
       "      <td>5083</td>\n",
       "      <td>0</td>\n",
       "      <td>0</td>\n",
       "      <td>1</td>\n",
       "      <td>0</td>\n",
       "      <td>1</td>\n",
       "      <td>0</td>\n",
       "    </tr>\n",
       "    <tr>\n",
       "      <th>59</th>\n",
       "      <td>60</td>\n",
       "      <td>Tamil Nadu</td>\n",
       "      <td>28</td>\n",
       "      <td>0.0</td>\n",
       "      <td>High</td>\n",
       "      <td>2018</td>\n",
       "      <td>No</td>\n",
       "      <td>12604</td>\n",
       "      <td>0</td>\n",
       "      <td>1</td>\n",
       "      <td>0</td>\n",
       "      <td>0</td>\n",
       "      <td>1</td>\n",
       "      <td>0</td>\n",
       "    </tr>\n",
       "    <tr>\n",
       "      <th>60</th>\n",
       "      <td>61</td>\n",
       "      <td>Maharashtra</td>\n",
       "      <td>55</td>\n",
       "      <td>0.0</td>\n",
       "      <td>High</td>\n",
       "      <td>2015</td>\n",
       "      <td>Yes</td>\n",
       "      <td>8988</td>\n",
       "      <td>1</td>\n",
       "      <td>1</td>\n",
       "      <td>0</td>\n",
       "      <td>0</td>\n",
       "      <td>0</td>\n",
       "      <td>1</td>\n",
       "    </tr>\n",
       "    <tr>\n",
       "      <th>61</th>\n",
       "      <td>62</td>\n",
       "      <td>Maharashtra</td>\n",
       "      <td>70</td>\n",
       "      <td>1.0</td>\n",
       "      <td>High</td>\n",
       "      <td>2015</td>\n",
       "      <td>No</td>\n",
       "      <td>8484</td>\n",
       "      <td>0</td>\n",
       "      <td>1</td>\n",
       "      <td>0</td>\n",
       "      <td>0</td>\n",
       "      <td>1</td>\n",
       "      <td>0</td>\n",
       "    </tr>\n",
       "  </tbody>\n",
       "</table>\n",
       "</div>"
      ],
      "text/plain": [
       "    Id                        State  Age  Occupation Income_group  \\\n",
       "0    1                Uttar Pradesh   28         1.0          Low   \n",
       "2    3                  West Bengal   62         1.0         High   \n",
       "6    7                   Tamil Nadu   68         1.0         High   \n",
       "9   10                   Tamil Nadu   67         1.0         High   \n",
       "12  13                       Kerala   31         1.0          Low   \n",
       "17  18                   Tamil Nadu   32         0.0       Medium   \n",
       "18  19                   Tamil Nadu   63         1.0          Low   \n",
       "19  20                   Chandigarh   52         0.0       Medium   \n",
       "20  21                     Nagaland   73         0.0         High   \n",
       "21  22  Andaman and Nicobar Islands   68         0.0       Medium   \n",
       "24  25                   Tamil Nadu   56         0.0         High   \n",
       "26  27                      Tripura   79         1.0         High   \n",
       "34  35                  Maharashtra   84         0.0          Low   \n",
       "36  37                      Gujarat   53         0.0         High   \n",
       "44  45                Uttar Pradesh   53         0.0         High   \n",
       "47  48                    Telangana   33         1.0         High   \n",
       "51  52                       Sikkim   29         1.0          Low   \n",
       "59  60                   Tamil Nadu   28         0.0         High   \n",
       "60  61                  Maharashtra   55         0.0         High   \n",
       "61  62                  Maharashtra   70         1.0         High   \n",
       "\n",
       "    Customer_since Loyalty_program  Past_purchase  Purchase  High  Low  \\\n",
       "0             2018              No           4937         0     0    1   \n",
       "2             2013              No           8610         1     1    0   \n",
       "6             2010              No          12780         1     1    0   \n",
       "9             2010             Yes          25120         1     1    0   \n",
       "12            2017              No           3853         0     0    1   \n",
       "17            2016              No           6461         0     0    0   \n",
       "18            2013              No          12900         1     0    1   \n",
       "19            2017              No           2801         0     0    0   \n",
       "20            2016             Yes           6960         0     1    0   \n",
       "21            2018             Yes           6852         0     0    0   \n",
       "24            2010             Yes           9029         1     1    0   \n",
       "26            2014              No           7197         0     1    0   \n",
       "34            2015              No          22723         0     0    1   \n",
       "36            2012             Yes           7285         0     1    0   \n",
       "44            2012              No          32397         0     1    0   \n",
       "47            2018              No          11691         0     1    0   \n",
       "51            2018              No           5083         0     0    1   \n",
       "59            2018              No          12604         0     1    0   \n",
       "60            2015             Yes           8988         1     1    0   \n",
       "61            2015              No           8484         0     1    0   \n",
       "\n",
       "    Medium  No  Yes  \n",
       "0        0   1    0  \n",
       "2        0   1    0  \n",
       "6        0   1    0  \n",
       "9        0   0    1  \n",
       "12       0   1    0  \n",
       "17       1   1    0  \n",
       "18       0   1    0  \n",
       "19       1   1    0  \n",
       "20       0   0    1  \n",
       "21       1   0    1  \n",
       "24       0   0    1  \n",
       "26       0   1    0  \n",
       "34       0   1    0  \n",
       "36       0   0    1  \n",
       "44       0   1    0  \n",
       "47       0   1    0  \n",
       "51       0   1    0  \n",
       "59       0   1    0  \n",
       "60       0   0    1  \n",
       "61       0   1    0  "
      ]
     },
     "execution_count": 464,
     "metadata": {},
     "output_type": "execute_result"
    }
   ],
   "source": [
    "df.head(20)"
   ]
  },
  {
   "cell_type": "markdown",
   "metadata": {},
   "source": [
    "### Data Cleaning Finished"
   ]
  },
  {
   "cell_type": "markdown",
   "metadata": {},
   "source": [
    "# Exploratory Data Analysis"
   ]
  },
  {
   "cell_type": "markdown",
   "metadata": {},
   "source": [
    "## Categorical Variable Analysis"
   ]
  },
  {
   "cell_type": "markdown",
   "metadata": {},
   "source": [
    "### Occupation vs Target Variable"
   ]
  },
  {
   "cell_type": "code",
   "execution_count": 465,
   "metadata": {},
   "outputs": [
    {
     "data": {
      "text/plain": [
       "Text(0.5, 1.0, 'Occupation vs Purchase')"
      ]
     },
     "execution_count": 465,
     "metadata": {},
     "output_type": "execute_result"
    },
    {
     "data": {
      "image/png": "[encoded data removed]",
      "text/plain": [
       "<Figure size 720x720 with 2 Axes>"
      ]
     },
     "metadata": {
      "needs_background": "light"
     },
     "output_type": "display_data"
    }
   ],
   "source": [
    "plt.figure(figsize=(10,10))\n",
    "plt.subplot(1,2,1)\n",
    "sns.barplot(['Self-Employed','Salaried','Business'],df['Occupation'].value_counts())\n",
    "plt.xlabel('Occupation Category')\n",
    "plt.ylabel('Frequency')\n",
    "plt.title('Distribution of various Occupations')\n",
    "plt.subplot(1,2,2)\n",
    "sns.barplot(df['Occupation'],df['Purchase'])\n",
    "plt.xlabel('Occupation Category')\n",
    "plt.ylabel('Purchase Percentage')\n",
    "plt.title('Occupation vs Purchase')"
   ]
  },
  {
   "cell_type": "markdown",
   "metadata": {},
   "source": [
    "## Inferences\n",
    "\n",
    "\n",
    "1. Business Customers are the least among the occupation categoy but the majority of them are going to buy a product from the store again.\n",
    "\n",
    "\n",
    "2. Only around 20% of the Salaried Customers are predicted to purchase a product at the store again\n",
    "\n",
    "\n",
    "3. Self-employed people have been the highest category of customers but majority of them doesnt want to purchase a product again\n",
    "\n",
    "\n",
    "**From this it is clear that the store has to roll in some benefits for Business customers to reap profits and also to change some policies regarding Self-Employed customers as their number is higher**"
   ]
  },
  {
   "cell_type": "markdown",
   "metadata": {},
   "source": [
    "### Income_Group vs Target Variable"
   ]
  },
  {
   "cell_type": "code",
   "execution_count": 477,
   "metadata": {},
   "outputs": [
    {
     "data": {
      "image/png": "[encoded data removed]",
      "text/plain": [
       "<Figure size 576x432 with 2 Axes>"
      ]
     },
     "metadata": {
      "needs_background": "light"
     },
     "output_type": "display_data"
    }
   ],
   "source": [
    "import random\n",
    "plt.figure(figsize=(8,6))\n",
    "colors,cs = [],[]\n",
    "\n",
    "\n",
    "\n",
    "plt.subplot(1,2,1)\n",
    "sns.barplot(['Low','Medium','High'],df['Income_group'].value_counts())\n",
    "plt.xlabel('Income Category')\n",
    "plt.ylabel('Frequency')\n",
    "plt.title('Distribution of various Income Levels')\n",
    "plt.subplot(1,2,2)\n",
    "sns.barplot(df['Income_group'],df['Purchase'])\n",
    "plt.xlabel('Income Category')\n",
    "plt.ylabel('Purchase Percentage')\n",
    "plt.title('Income vs Purchase')\n",
    "plt.tight_layout()"
   ]
  },
  {
   "cell_type": "markdown",
   "metadata": {},
   "source": [
    "## Inferences:\n",
    "\n",
    "1. Low Income category customers are the most in terms of number while their purchase percentage is very less approximately 10% as expected.\n",
    "\n",
    "\n",
    "\n",
    "2. Meanwhile the number of Medium income category is slightly less than High income ones and their purchase percentage is nearly 30%\n",
    "\n",
    "\n",
    "\n",
    "3. High income category people are the least in this dataset but their contribution towards the purchase is highest as expected generally.\n",
    "\n",
    "\n",
    "So, theres nothing abnormal in this trend as this is expected generally"
   ]
  },
  {
   "cell_type": "markdown",
   "metadata": {},
   "source": [
    "### Loyalty Customer vs Target Variable"
   ]
  },
  {
   "cell_type": "code",
   "execution_count": 479,
   "metadata": {},
   "outputs": [
    {
     "data": {
      "image/png": "[encoded data removed]",
      "text/plain": [
       "<Figure size 576x432 with 2 Axes>"
      ]
     },
     "metadata": {
      "needs_background": "light"
     },
     "output_type": "display_data"
    }
   ],
   "source": [
    "import random\n",
    "plt.figure(figsize=(8,6))\n",
    "\n",
    "\n",
    "\n",
    "\n",
    "plt.subplot(1,2,1)\n",
    "sns.barplot(['Yes','No'],df['Loyalty_program'].value_counts())\n",
    "plt.xlabel('Loyalty Customer')\n",
    "plt.ylabel('Frequency')\n",
    "plt.title('Distribution of Loyalty Customers')\n",
    "plt.subplot(1,2,2)\n",
    "sns.barplot(df['Loyalty_program'],df['Purchase'])\n",
    "plt.xlabel('Loyalty Customer')\n",
    "plt.ylabel('Purchase Percentage')\n",
    "plt.title('Loyalty Customer vs Purchase')\n",
    "plt.tight_layout()"
   ]
  },
  {
   "cell_type": "markdown",
   "metadata": {},
   "source": [
    "## Inferences\n",
    "\n",
    "\n",
    "1. Majority of the customers have subscribed to the Loyalty Program and out of those who haven't, only 16% of them are predicted to buy the product from the store.\n",
    "\n",
    "\n",
    "2. The converse holds true in this case which means that, there is a probabilty of more than 35% of people buying the product who have subscribed to the loyalty program.\n",
    "\n",
    "\n",
    "So, the store can conduct a survey of **Why did'nt you subscribe to the Loyalty Program?\"** and can use that information to get more people into the Loyalty Program which automatically increases the chance of buying the next product"
   ]
  },
  {
   "cell_type": "markdown",
   "metadata": {},
   "source": [
    "## Numerical Variable Analysis"
   ]
  },
  {
   "cell_type": "markdown",
   "metadata": {},
   "source": [
    "### Age vs Target Variable"
   ]
  },
  {
   "cell_type": "code",
   "execution_count": 486,
   "metadata": {},
   "outputs": [
    {
     "data": {
      "text/plain": [
       "<matplotlib.axes._subplots.AxesSubplot at 0x1e85f425588>"
      ]
     },
     "execution_count": 486,
     "metadata": {},
     "output_type": "execute_result"
    },
    {
     "data": {
      "image/png": "[encoded data removed]",
      "text/plain": [
       "<Figure size 432x288 with 1 Axes>"
      ]
     },
     "metadata": {
      "needs_background": "light"
     },
     "output_type": "display_data"
    }
   ],
   "source": [
    "sns.distplot(df['Age'],bins=20)"
   ]
  },
  {
   "cell_type": "markdown",
   "metadata": {},
   "source": [
    "From this distribution plot, we can see that the ages of customers are fairly spread and majority of the customers lie in the age range of 20-30"
   ]
  },
  {
   "cell_type": "markdown",
   "metadata": {},
   "source": [
    "Now, let us try to segregate the **Age** into various sub-categories to make the analysis against **Purchase** easier"
   ]
  },
  {
   "cell_type": "code",
   "execution_count": 498,
   "metadata": {},
   "outputs": [
    {
     "name": "stdout",
     "output_type": "stream",
     "text": [
      "23 85\n"
     ]
    }
   ],
   "source": [
    "print(df['Age'].min(),df['Age'].max())\n",
    "\n",
    "\n",
    "#the minimum age is 23 while the maximum is 85"
   ]
  },
  {
   "cell_type": "code",
   "execution_count": 503,
   "metadata": {
    "scrolled": true
   },
   "outputs": [],
   "source": [
    "def agerange(i):\n",
    "    \n",
    "        if i>=20 and i<30:\n",
    "            return '20-30'\n",
    "        if i>=30 and i<40:\n",
    "            return '30-40'\n",
    "        if i>=40 and i<50:\n",
    "            return '40-50'\n",
    "        if i>=50 and i<60:\n",
    "            return '50-60'\n",
    "        if i>=60 and i<70:\n",
    "            return '60-70'\n",
    "        if i>=70 and i<86:\n",
    "            return '70-85'\n",
    "df['Age_range'] = df['Age'].apply(lambda x: agerange(x))"
   ]
  },
  {
   "cell_type": "code",
   "execution_count": 512,
   "metadata": {},
   "outputs": [
    {
     "data": {
      "image/png": "[encoded data removed]",
      "text/plain": [
       "<Figure size 1440x720 with 2 Axes>"
      ]
     },
     "metadata": {
      "needs_background": "light"
     },
     "output_type": "display_data"
    }
   ],
   "source": [
    "plt.figure(figsize=(20,10))\n",
    "\n",
    "\n",
    "\n",
    "\n",
    "plt.subplot(2,1,1)\n",
    "\n",
    "colors = []\n",
    "\n",
    "for i in range(6):\n",
    "    colors.append((random.uniform(0,1),random.uniform(0,1),random.uniform(0,1)))\n",
    "\n",
    "plt.pie(df['Age_range'].value_counts(),colors=colors,labels=df['Age_range'].unique(),autopct='%.0f%%')\n",
    "plt.title('Distribution of Ages of Customers')\n",
    "plt.subplot(2,1,2)\n",
    "sns.barplot(df['Age_range'],df['Purchase'])\n",
    "plt.xlabel('Age of Customer')\n",
    "plt.ylabel('Purchase Percentage')\n",
    "plt.title('Customer Age vs Purchase')\n",
    "plt.tight_layout()"
   ]
  },
  {
   "cell_type": "markdown",
   "metadata": {},
   "source": [
    "### Inferences:\n",
    "\n",
    "\n",
    "1. The pie chart reveals the distribution of Age Ranges of the customers. Customers mostly belong to the age groups of 20-30 years (22%), 60-70 years (20%) followed by 30-40 years(19%) and 50-60 years(18%)\n",
    "\n",
    "\n",
    "2. Coming to the purchase percentage, **although majority of people belong to 20-30 years, the percentage of purchase among their total is quite less almost 6%**\n",
    "\n",
    "\n",
    "3. The highest purchase percentage among the age groups belongs to the customers in **50-60** and **40-50** years closely followed by **60-70** and **70-85** years\n",
    "\n",
    "\n",
    "\n",
    "**So, the general inference is that as customer's age crosses 30-40 years, majority of them tend to spend more**"
   ]
  },
  {
   "cell_type": "markdown",
   "metadata": {},
   "source": [
    "### Customers_since vs Purchase"
   ]
  },
  {
   "cell_type": "code",
   "execution_count": 517,
   "metadata": {},
   "outputs": [
    {
     "data": {
      "image/png": "[encoded data removed]",
      "text/plain": [
       "<Figure size 1440x1080 with 2 Axes>"
      ]
     },
     "metadata": {
      "needs_background": "light"
     },
     "output_type": "display_data"
    }
   ],
   "source": [
    "plt.figure(figsize=(20,15))\n",
    "\n",
    "\n",
    "\n",
    "\n",
    "plt.subplot(1,2,1)\n",
    "\n",
    "colors = []\n",
    "\n",
    "for i in range(6):\n",
    "    colors.append((random.uniform(0,1),random.uniform(0,1),random.uniform(0,1)))\n",
    "\n",
    "plt.pie(df['Customer_since'].value_counts(),colors=colors,labels=df['Customer_since'].unique(),autopct='%.0f%%')\n",
    "plt.legend()\n",
    "plt.title('Year from which the Customer visited first')\n",
    "plt.subplot(1,2,2)\n",
    "sns.barplot(df['Customer_since'],df['Purchase'])\n",
    "plt.xlabel('Year when Customer visited first')\n",
    "plt.ylabel('Purchase Percentage')\n",
    "plt.title('Customer Visit first Year vs Purchase')\n",
    "plt.tight_layout()"
   ]
  },
  {
   "cell_type": "markdown",
   "metadata": {},
   "source": [
    "### Inferences:\n",
    "\n",
    "\n",
    "1. From the distribution pie chart, we can clearly see that **more than 50% of customers started visting the store from the year 2013 and 2018**\n",
    "\n",
    "\n",
    "2. Rest all years are less than 10%\n",
    "\n",
    "\n",
    "3. From the bar chart, we can make out that **customers who started visiting from year 2012 have been the most loyal ones with 50% of them buying the product**\n",
    "\n",
    "\n",
    "4. This is followed by 2011 and 2013 in which more than 40% people are expected to buy the next product while 2017 and 2018 hadthe lowest with only 15% of people willing to buy the product"
   ]
  },
  {
   "cell_type": "markdown",
   "metadata": {},
   "source": [
    "## Past_purchase vs Purchase"
   ]
  },
  {
   "cell_type": "markdown",
   "metadata": {},
   "source": [
    "Let us create some bins for the past purchase column and then compare with the Purchase column"
   ]
  },
  {
   "cell_type": "code",
   "execution_count": 520,
   "metadata": {},
   "outputs": [
    {
     "name": "stdout",
     "output_type": "stream",
     "text": [
      "208 103520\n"
     ]
    }
   ],
   "source": [
    "print(df['Past_purchase'].min(),df['Past_purchase'].max())"
   ]
  },
  {
   "cell_type": "code",
   "execution_count": 526,
   "metadata": {},
   "outputs": [
    {
     "data": {
      "text/plain": [
       "<matplotlib.axes._subplots.AxesSubplot at 0x1e8646c8608>"
      ]
     },
     "execution_count": 526,
     "metadata": {},
     "output_type": "execute_result"
    },
    {
     "data": {
      "image/png": "[encoded data removed]",
      "text/plain": [
       "<Figure size 432x288 with 1 Axes>"
      ]
     },
     "metadata": {
      "needs_background": "light"
     },
     "output_type": "display_data"
    }
   ],
   "source": [
    "sns.distplot(df['Past_purchase'],bins=30)"
   ]
  },
  {
   "cell_type": "markdown",
   "metadata": {},
   "source": [
    "From the plot and the maximum and minimum values, we can clearly see that the **Past_purchase column is highly skewed and from Rs. 40000, very less people have spent more than that**\n",
    "\n",
    "So we can create the bins as follows"
   ]
  },
  {
   "cell_type": "code",
   "execution_count": 528,
   "metadata": {},
   "outputs": [],
   "source": [
    "def ppbins(i):\n",
    "    if i>=0 and i<5000:\n",
    "        return '0-5000'\n",
    "    if i>=5000 and i<10000:\n",
    "        return '5000-10000'\n",
    "    if i>=10000 and i<20000:\n",
    "        return '10000-20000'\n",
    "    if i>=20000 and i<30000:\n",
    "        return '20000-30000'\n",
    "    if i>=30000 and i<50000:\n",
    "        return '30000-50000'\n",
    "    if i>=50000:\n",
    "        return '50000 and Above'\n",
    "df['Past_amount'] = df['Past_purchase'].apply(lambda x: ppbins(x))"
   ]
  },
  {
   "cell_type": "code",
   "execution_count": 531,
   "metadata": {},
   "outputs": [
    {
     "data": {
      "image/png": "[encoded data removed]",
      "text/plain": [
       "<Figure size 1440x1080 with 2 Axes>"
      ]
     },
     "metadata": {
      "needs_background": "light"
     },
     "output_type": "display_data"
    }
   ],
   "source": [
    "plt.figure(figsize=(20,15))\n",
    "\n",
    "\n",
    "\n",
    "\n",
    "plt.subplot(2,1,1)\n",
    "\n",
    "colors = []\n",
    "\n",
    "for i in range(6):\n",
    "    colors.append((random.uniform(0,1),random.uniform(0,1),random.uniform(0,1)))\n",
    "\n",
    "plt.pie(df['Past_amount'].value_counts(),colors=colors,labels=df['Past_amount'].unique(),autopct='%.0f%%')\n",
    "plt.legend()\n",
    "plt.title('Amount spent by Customer')\n",
    "plt.subplot(2,1,2)\n",
    "sns.barplot(df['Past_amount'],df['Purchase'])\n",
    "plt.xlabel('Amount spent by customer')\n",
    "plt.ylabel('Purchase Percentage')\n",
    "plt.title('Amount spent by customer vs Purchase')\n",
    "plt.tight_layout()"
   ]
  },
  {
   "cell_type": "markdown",
   "metadata": {},
   "source": [
    "### Inferences :\n",
    "\n",
    "\n",
    "1. **Around 75% of the customers have previously spent the money in range of 0-Rs. 10000** which might suggest that most of the customers belong to the Lower income class as we saw from graphs above\n",
    "\n",
    "\n",
    "2. **15% of the customers spent their money in the range of Rs 10000- Rs 20000** which might suggest that these people belong to the middle income class.\n",
    "\n",
    "\n",
    "3. From this range, as the amount spent increases, the percentage of people is being reduced. This can be proved from the fact that **the data is highly right-skewed as shown in the Distribution plot**\n",
    "\n",
    "\n",
    "4. But the Purchase_percent of all the categories of the customers is nearly in a similar range from **17% to 27%**. This means that **around 17-27 percentage of people from all the previous_purchase categories are planning to buy the next product**"
   ]
  },
  {
   "cell_type": "markdown",
   "metadata": {},
   "source": [
    "# Insights, Assumptions and Inferences"
   ]
  },
  {
   "cell_type": "code",
   "execution_count": null,
   "metadata": {},
   "outputs": [],
   "source": []
  }
 ],
 "metadata": {
  "kernelspec": {
   "display_name": "Python 3",
   "language": "python",
   "name": "python3"
  },
  "language_info": {
   "codemirror_mode": {
    "name": "ipython",
    "version": 3
   },
   "file_extension": ".py",
   "mimetype": "text/x-python",
   "name": "python",
   "nbconvert_exporter": "python",
   "pygments_lexer": "ipython3",
   "version": "3.7.6"
  }
 },
 "nbformat": 4,
 "nbformat_minor": 4
}
